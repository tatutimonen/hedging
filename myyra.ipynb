{
 "cells": [
  {
   "cell_type": "code",
   "execution_count": 3,
   "metadata": {},
   "outputs": [],
   "source": [
    "import os\n",
    "import math\n",
    "import re\n",
    "import sys\n",
    "import pandas as pd\n",
    "pd.set_option(\"display.max_columns\", None)\n",
    "import numpy as np\n",
    "from scipy.stats import norm\n",
    "from scipy.optimize import minimize\n",
    "import matplotlib.pyplot as plt"
   ]
  },
  {
   "cell_type": "code",
   "execution_count": 27,
   "metadata": {},
   "outputs": [],
   "source": [
    "class OptionsData:\n",
    "    s_data_dir = \"data\"\n",
    "    s_default_filename = \"isx2010C.xls\"\n",
    "    \n",
    "    def __init__(self, filename=s_default_filename, clean=True):\n",
    "        filepath = os.path.join(self.s_data_dir, filename)\n",
    "        if not os.path.isfile(filepath):\n",
    "            faulty_filepath = filepath\n",
    "            filepath = os.path.join(self.s_data_dir, self.s_default_filename)\n",
    "            print(f\"Warning: could not find {faulty_filepath!r}; proceeding with {filepath!r}\")\n",
    "        self.__m_sheet_df_dict = pd.read_excel(filepath, sheet_name=None)\n",
    "        if clean:\n",
    "            for key, val in self.__m_sheet_df_dict.items():\n",
    "                self.__m_sheet_df_dict[key] = self.__clean_df(val)\n",
    "                \n",
    "    def __get_item__(self, key):\n",
    "        return self.__m_sheet_df_dict[key]\n",
    "    \n",
    "    def get_sheet_df_dict(self):\n",
    "        return self.__m_sheet_df_dict\n",
    "    \n",
    "    def get_df_with_strikes(self, E, sheet_name=\"\"):\n",
    "        if not sheet_name:\n",
    "            sheet_name = list(self.__m_sheet_df_dict.keys())[0]\n",
    "            print(f\"Warning: sheet name not specified; proceeding with {sheet_name!r}\")\n",
    "        df = self.__m_sheet_df_dict[sheet_name]\n",
    "        common = [\"T\", \"T_norm\", \"S\", \"r\"]\n",
    "        strikes_search_pattern = \"|\".join(map(lambda x: f\"({str(x)})\", [E] if type(E) is not list else E))\n",
    "        cols = [*common, *filter(lambda x: re.search(strikes_search_pattern, str(x)), df.columns)]\n",
    "        return df[cols]\n",
    "    \n",
    "    def __clean_df(self, df):\n",
    "        # Discard rows where no options data is available.\n",
    "        df = df.dropna(how=\"all\")\n",
    "        # Rename the columns according to the following convention:\n",
    "        #  T = Time to Maturity\n",
    "        #  S = Price of the Underlying\n",
    "        #  r = Risk-free interest rate\n",
    "        df = df.rename(lambda x: self.__rename_df_cols(str(x), df), axis=\"columns\")\n",
    "        # Adjust the interest rate properly.\n",
    "        df[\"r\"] = df[\"r\"] / 100\n",
    "        # Add new column with annual-normalized T (252 = no. trading days in a year).\n",
    "        df[\"T_norm\"] = df[\"T\"] / 252\n",
    "        # Re-arrange the columns.\n",
    "        common = [\"T\", \"T_norm\", \"S\", \"r\"]\n",
    "        cols = [*common, *filter(lambda x: re.search(\"[0-9]+\", str(x)), df.columns)]\n",
    "        return df[cols]\n",
    "    \n",
    "    def __rename_df_cols(self, col_name, df):\n",
    "        ncol = len(df.columns)\n",
    "        # Time to maturity | (price of the underlying | risk-free rate).\n",
    "        regex = r\"(?P<T>[0-9]+(-[0-9]{2}){2} ([0-9]{2}:){2}[0-9]{2})|(?P<Sr>Unnamed: (?P<idx>[0-9]+))\"\n",
    "        match = re.match(regex, col_name)\n",
    "        if not match:\n",
    "            return col_name\n",
    "        group_dict = match.groupdict()\n",
    "        if group_dict[\"T\"]:\n",
    "            return \"T\"\n",
    "        elif group_dict[\"Sr\"]:\n",
    "            col_idx = int(group_dict[\"idx\"])\n",
    "            # Third last depicts the price of the underlying...\n",
    "            if col_idx == ncol - 3:\n",
    "                return \"S\"\n",
    "            # ...and the second last the risk free rate.\n",
    "            elif col_idx == ncol - 2:\n",
    "                return \"r\""
   ]
  },
  {
   "cell_type": "code",
   "execution_count": 32,
   "metadata": {},
   "outputs": [
    {
     "name": "stdout",
     "output_type": "stream",
     "text": [
      "Warning: sheet name not specified; proceeding with 'isx15012010C'\n"
     ]
    },
    {
     "data": {
      "text/html": [
       "<div>\n",
       "<style scoped>\n",
       "    .dataframe tbody tr th:only-of-type {\n",
       "        vertical-align: middle;\n",
       "    }\n",
       "\n",
       "    .dataframe tbody tr th {\n",
       "        vertical-align: top;\n",
       "    }\n",
       "\n",
       "    .dataframe thead th {\n",
       "        text-align: right;\n",
       "    }\n",
       "</style>\n",
       "<table border=\"1\" class=\"dataframe\">\n",
       "  <thead>\n",
       "    <tr style=\"text-align: right;\">\n",
       "      <th></th>\n",
       "      <th>T</th>\n",
       "      <th>T_norm</th>\n",
       "      <th>S</th>\n",
       "      <th>r</th>\n",
       "      <th>340</th>\n",
       "    </tr>\n",
       "  </thead>\n",
       "  <tbody>\n",
       "    <tr>\n",
       "      <th>81</th>\n",
       "      <td>5</td>\n",
       "      <td>0.019841</td>\n",
       "      <td>524.29</td>\n",
       "      <td>0.0006</td>\n",
       "      <td>185.50</td>\n",
       "    </tr>\n",
       "    <tr>\n",
       "      <th>82</th>\n",
       "      <td>4</td>\n",
       "      <td>0.015873</td>\n",
       "      <td>527.93</td>\n",
       "      <td>0.0006</td>\n",
       "      <td>188.55</td>\n",
       "    </tr>\n",
       "    <tr>\n",
       "      <th>83</th>\n",
       "      <td>3</td>\n",
       "      <td>0.011905</td>\n",
       "      <td>529.59</td>\n",
       "      <td>0.0006</td>\n",
       "      <td>190.10</td>\n",
       "    </tr>\n",
       "    <tr>\n",
       "      <th>84</th>\n",
       "      <td>2</td>\n",
       "      <td>0.007937</td>\n",
       "      <td>524.11</td>\n",
       "      <td>0.0005</td>\n",
       "      <td>184.10</td>\n",
       "    </tr>\n",
       "    <tr>\n",
       "      <th>85</th>\n",
       "      <td>1</td>\n",
       "      <td>0.003968</td>\n",
       "      <td>NaN</td>\n",
       "      <td>NaN</td>\n",
       "      <td>NaN</td>\n",
       "    </tr>\n",
       "  </tbody>\n",
       "</table>\n",
       "</div>"
      ],
      "text/plain": [
       "    T    T_norm       S       r     340\n",
       "81  5  0.019841  524.29  0.0006  185.50\n",
       "82  4  0.015873  527.93  0.0006  188.55\n",
       "83  3  0.011905  529.59  0.0006  190.10\n",
       "84  2  0.007937  524.11  0.0005  184.10\n",
       "85  1  0.003968     NaN     NaN     NaN"
      ]
     },
     "execution_count": 32,
     "metadata": {},
     "output_type": "execute_result"
    }
   ],
   "source": [
    "data = OptionsData()\n",
    "data.get_df_with_strikes(340).tail()"
   ]
  },
  {
   "cell_type": "code",
   "execution_count": 21,
   "metadata": {},
   "outputs": [],
   "source": [
    "def implied_volatility(sigma0, S, E, r, T, C_obs):\n",
    "    eps = np.finfo(float).eps\n",
    "    d1 = (math.log(S/E) + (r + 0.5*sigma0**2) * T) / (math.sqrt(sigma0**2 * T) + eps)\n",
    "    d2 = d1 - math.sqrt(sigma0**2 * T)\n",
    "    C = norm.cdf(d1) * S - E * math.exp(-r * T) * norm.cdf(d2)\n",
    "    return 0.5*(C - C_obs)**2"
   ]
  },
  {
   "cell_type": "code",
   "execution_count": 34,
   "metadata": {},
   "outputs": [
    {
     "name": "stdout",
     "output_type": "stream",
     "text": [
      "Warning: sheet name not specified; proceeding with 'isx15012010C'\n"
     ]
    }
   ],
   "source": [
    "E = '340'\n",
    "df_single = data.get_df_with_strikes(int(E)).dropna()\n",
    "\n",
    "rows_iter = df_single.iterrows()\n",
    "index, row = next(rows_iter)\n",
    "S = row['S']\n",
    "T = row['T_norm']\n",
    "r = row['r']\n",
    "sigma, *_ = minimize(implied_volatility, 1.0, args=(S, float(E), r, T, row[E]))['x']\n",
    "d1 = (math.log(S/float(E)) + (r + 0.5*sigma**2)*T) / (sigma * math.sqrt(T) + np.finfo(float).eps)\n",
    "delta = norm.cdf(d1)\n",
    "long_prev = row[E]\n",
    "short_prev = delta * S\n",
    "\n",
    "mse = 0.0\n",
    "\n",
    "for index, row in rows_iter:\n",
    "    long = row[E]\n",
    "    short = delta * S\n",
    "    dlong = long - long_prev\n",
    "    dshort = short - short_prev\n",
    "    mse += (dlong - dshort)**2\n",
    "    long_prev = long\n",
    "    short_prev = short\n",
    "    \n",
    "    if index % 2 == 0:\n",
    "        S = row['S']\n",
    "        T = row['T_norm']\n",
    "        r = row['r']\n",
    "        \n",
    "        sigma, *_ = minimize(implied_volatility, 1.0, args=(S, float(E), r, T, row[E]))['x']\n",
    "        d1 = (math.log(S/float(E)) + (r + 0.5*sigma**2)*T) / (sigma * math.sqrt(T) + np.finfo(float).eps)\n",
    "        delta = norm.cdf(d1)\n",
    "    \n",
    "mse /= df_single.shape[0]"
   ]
  },
  {
   "cell_type": "code",
   "execution_count": 35,
   "metadata": {},
   "outputs": [
    {
     "data": {
      "text/plain": [
       "14336.217103243194"
      ]
     },
     "execution_count": 35,
     "metadata": {},
     "output_type": "execute_result"
    }
   ],
   "source": [
    "mse"
   ]
  }
 ],
 "metadata": {
  "kernelspec": {
   "display_name": "Python 3",
   "language": "python",
   "name": "python3"
  },
  "language_info": {
   "codemirror_mode": {
    "name": "ipython",
    "version": 3
   },
   "file_extension": ".py",
   "mimetype": "text/x-python",
   "name": "python",
   "nbconvert_exporter": "python",
   "pygments_lexer": "ipython3",
   "version": "3.8.6"
  },
  "varInspector": {
   "cols": {
    "lenName": 16,
    "lenType": 16,
    "lenVar": 40
   },
   "kernels_config": {
    "python": {
     "delete_cmd_postfix": "",
     "delete_cmd_prefix": "del ",
     "library": "var_list.py",
     "varRefreshCmd": "print(var_dic_list())"
    },
    "r": {
     "delete_cmd_postfix": ") ",
     "delete_cmd_prefix": "rm(",
     "library": "var_list.r",
     "varRefreshCmd": "cat(var_dic_list()) "
    }
   },
   "types_to_exclude": [
    "module",
    "function",
    "builtin_function_or_method",
    "instance",
    "_Feature"
   ],
   "window_display": false
  }
 },
 "nbformat": 4,
 "nbformat_minor": 4
}
