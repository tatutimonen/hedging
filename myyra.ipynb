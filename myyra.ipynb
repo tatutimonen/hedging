{
 "cells": [
  {
   "cell_type": "code",
   "execution_count": 38,
   "metadata": {},
   "outputs": [],
   "source": [
    "import os\n",
    "import math\n",
    "import re\n",
    "import functools\n",
    "import itertools\n",
    "from dataclasses import dataclass, field\n",
    "import pandas as pd\n",
    "pd.set_option(\"display.max_columns\", None)\n",
    "import numpy as np\n",
    "from scipy.stats import norm\n",
    "from scipy.optimize import minimize\n",
    "import matplotlib.pyplot as plt"
   ]
  },
  {
   "cell_type": "markdown",
   "metadata": {},
   "source": [
    "Add any general utility functions as static member functions to this class. They can be called as `Util.fn`."
   ]
  },
  {
   "cell_type": "code",
   "execution_count": 39,
   "metadata": {},
   "outputs": [],
   "source": [
    "class Util:\n",
    "    def __init__(self):\n",
    "        raise TypeError(\"Non-instantiable class\")\n",
    "        \n",
    "    def __new__(self, *args, **kwargs):\n",
    "        raise TypeError(\"Non-instantiable class\")\n",
    "        \n",
    "    @staticmethod\n",
    "    def make_regex_group_disjunction(coll):\n",
    "        return \"|\".join(map(lambda x: f\"({str(x)})\", coll))"
   ]
  },
  {
   "cell_type": "code",
   "execution_count": 56,
   "metadata": {},
   "outputs": [],
   "source": [
    "class OptionsData:\n",
    "    s_data_dir = \"data\"\n",
    "    s_default_filename = \"isx2010C.xls\"\n",
    "    \n",
    "    def __init__(self, filename=s_default_filename, clean=True):\n",
    "        filepath = os.path.join(self.s_data_dir, filename)\n",
    "        if not os.path.isfile(filepath):\n",
    "            faulty_filepath = filepath\n",
    "            filepath = os.path.join(self.s_data_dir, self.s_default_filename)\n",
    "            print(f\"Warning: could not find {faulty_filepath!r}; proceeding with {filepath!r}\")\n",
    "        self.__m_sheet_df_dict = pd.read_excel(filepath, sheet_name=None)\n",
    "        if clean:\n",
    "            for key, val in self.__m_sheet_df_dict.items():\n",
    "                self.__m_sheet_df_dict[key] = self.__clean_df(val)\n",
    "                \n",
    "    def __get_item__(self, key):\n",
    "        return self.__m_sheet_df_dict[key]\n",
    "    \n",
    "    def get_sheet_df_dict(self):\n",
    "        return self.__m_sheet_df_dict\n",
    "    \n",
    "    def get_df_with_strikes(self, E, sheet_name=\"\"):\n",
    "        if not sheet_name:\n",
    "            sheet_name = list(self.__m_sheet_df_dict.keys())[0]\n",
    "            print(f\"Warning: sheet name not specified; proceeding with {sheet_name!r}\")\n",
    "        df = self.__m_sheet_df_dict[sheet_name]\n",
    "        common = [\"T\", \"T_norm\", \"S\", \"r\"]\n",
    "        strikes = E if type(E) is list or type(E) is tuple else [E]\n",
    "        cols = [*common, *map(lambda x: str(int(x)), strikes)]\n",
    "        return df[cols]\n",
    "    \n",
    "    def __clean_df(self, df):\n",
    "        # Discard rows where no options data is available.\n",
    "        df = df.dropna(how=\"all\")\n",
    "        # Rename the columns according to the following convention:\n",
    "        #  T = Time to Maturity\n",
    "        #  S = Price of the Underlying\n",
    "        #  r = Risk-Free Interest Rate\n",
    "        df = df.rename(lambda x: self.__rename_df_cols(str(x), df), axis=\"columns\")\n",
    "        # Adjust the interest rate properly.\n",
    "        df[\"r\"] = df[\"r\"] / 100\n",
    "        # Add new column with annual-normalized T (252 = no. trading days in a year).\n",
    "        df[\"T_norm\"] = df[\"T\"] / 252\n",
    "        # Re-arrange the columns.\n",
    "        common = [\"S\", \"r\", \"T\", \"T_norm\"]\n",
    "        cols = [*common, *filter(lambda x: re.search(\"[0-9]+\", x), df.columns.astype(str))]\n",
    "        return df[cols]\n",
    "    \n",
    "    def __rename_df_cols(self, col_name, df):\n",
    "        ncol = len(df.columns)\n",
    "        # Time to maturity | (price of the underlying | risk-free rate).\n",
    "        regex = r\"(?P<T>[0-9]+(-[0-9]{2}){2} ([0-9]{2}:){2}[0-9]{2})|(?P<Sr>Unnamed: (?P<idx>[0-9]+))\"\n",
    "        match = re.match(regex, col_name)\n",
    "        if not match:\n",
    "            return col_name\n",
    "        if match[\"T\"]:\n",
    "            return \"T\"\n",
    "        elif match[\"Sr\"]:\n",
    "            col_idx = int(match[\"idx\"])\n",
    "            # Third last depicts the price of the underlying...\n",
    "            if col_idx == ncol - 3:\n",
    "                return \"S\"\n",
    "            # ...and the second last the risk free rate.\n",
    "            elif col_idx == ncol - 2:\n",
    "                return \"r\"\n"
   ]
  },
  {
   "cell_type": "code",
   "execution_count": 57,
   "metadata": {},
   "outputs": [
    {
     "name": "stdout",
     "output_type": "stream",
     "text": [
      "Warning: sheet name not specified; proceeding with 'isx15012010C'\n"
     ]
    },
    {
     "data": {
      "text/html": [
       "<div>\n",
       "<style scoped>\n",
       "    .dataframe tbody tr th:only-of-type {\n",
       "        vertical-align: middle;\n",
       "    }\n",
       "\n",
       "    .dataframe tbody tr th {\n",
       "        vertical-align: top;\n",
       "    }\n",
       "\n",
       "    .dataframe thead th {\n",
       "        text-align: right;\n",
       "    }\n",
       "</style>\n",
       "<table border=\"1\" class=\"dataframe\">\n",
       "  <thead>\n",
       "    <tr style=\"text-align: right;\">\n",
       "      <th></th>\n",
       "      <th>T</th>\n",
       "      <th>T_norm</th>\n",
       "      <th>S</th>\n",
       "      <th>r</th>\n",
       "      <th>340</th>\n",
       "    </tr>\n",
       "  </thead>\n",
       "  <tbody>\n",
       "    <tr>\n",
       "      <th>81</th>\n",
       "      <td>5</td>\n",
       "      <td>0.019841</td>\n",
       "      <td>524.29</td>\n",
       "      <td>0.0006</td>\n",
       "      <td>185.50</td>\n",
       "    </tr>\n",
       "    <tr>\n",
       "      <th>82</th>\n",
       "      <td>4</td>\n",
       "      <td>0.015873</td>\n",
       "      <td>527.93</td>\n",
       "      <td>0.0006</td>\n",
       "      <td>188.55</td>\n",
       "    </tr>\n",
       "    <tr>\n",
       "      <th>83</th>\n",
       "      <td>3</td>\n",
       "      <td>0.011905</td>\n",
       "      <td>529.59</td>\n",
       "      <td>0.0006</td>\n",
       "      <td>190.10</td>\n",
       "    </tr>\n",
       "    <tr>\n",
       "      <th>84</th>\n",
       "      <td>2</td>\n",
       "      <td>0.007937</td>\n",
       "      <td>524.11</td>\n",
       "      <td>0.0005</td>\n",
       "      <td>184.10</td>\n",
       "    </tr>\n",
       "    <tr>\n",
       "      <th>85</th>\n",
       "      <td>1</td>\n",
       "      <td>0.003968</td>\n",
       "      <td>NaN</td>\n",
       "      <td>NaN</td>\n",
       "      <td>NaN</td>\n",
       "    </tr>\n",
       "  </tbody>\n",
       "</table>\n",
       "</div>"
      ],
      "text/plain": [
       "    T    T_norm       S       r     340\n",
       "81  5  0.019841  524.29  0.0006  185.50\n",
       "82  4  0.015873  527.93  0.0006  188.55\n",
       "83  3  0.011905  529.59  0.0006  190.10\n",
       "84  2  0.007937  524.11  0.0005  184.10\n",
       "85  1  0.003968     NaN     NaN     NaN"
      ]
     },
     "execution_count": 57,
     "metadata": {},
     "output_type": "execute_result"
    }
   ],
   "source": [
    "data = OptionsData()\n",
    "data.get_df_with_strikes(340).tail()"
   ]
  },
  {
   "cell_type": "markdown",
   "metadata": {},
   "source": [
    "A class encapsulating the Black-Scholes-Merton model and related computations, such as Greeks. Can create instances from `pd.Series` objects (as returned by pd.DataFrame.iterrows) via the `BSM.make_from_series` factory method."
   ]
  },
  {
   "cell_type": "code",
   "execution_count": 96,
   "metadata": {},
   "outputs": [],
   "source": [
    "@dataclass(frozen=True)\n",
    "class BSM:\n",
    "    S: float\n",
    "    E: float\n",
    "    r: float\n",
    "    T: float\n",
    "    C_obs: float\n",
    "    sigma: float = 1.0\n",
    "    d1: float = field(init=False)\n",
    "    d2: float = field(init=False)\n",
    "    \n",
    "    def __post_init__(self):\n",
    "        S, E, r, T, C_obs, sigma = self.S, self.E, self.r, self.T, self.C_obs, self.sigma\n",
    "        sigma, *_ = minimize(self.__implied_vol_objective, sigma, args=(S, E, r, T, C_obs))['x']\n",
    "        object.__setattr__(self, \"sigma\", sigma)\n",
    "        eps = np.finfo(float).eps\n",
    "        d1 = (math.log(S / E) + (r + 0.5 * self.sigma**2) * T) / (sigma * math.sqrt(T) + eps)\n",
    "        object.__setattr__(self, \"d1\", d1)\n",
    "        d2 = self.d1 - math.sqrt(self.sigma**2 * T)\n",
    "        object.__setattr__(self, \"d2\", d2)\n",
    "        \n",
    "    @staticmethod\n",
    "    def make_from_series(ser, E, sigma=1.0):\n",
    "        ser = ser.filter(regex=Util.make_regex_group_disjunction([\"S\", int(E), \"r\", \"T_norm\"]), axis=\"index\")\n",
    "        assert ser.shape[0] == 4, f\"Error: The series should have an index of form [S, E, r, T_norm], got {ser.index}.\"\n",
    "        S, r, T, C_obs = ser.array\n",
    "        return BSM(S, E, r, T, C_obs, sigma=sigma)\n",
    "    \n",
    "    @functools.cached_property\n",
    "    def delta(self):\n",
    "        return norm.cdf(self.d1)\n",
    "    \n",
    "    @functools.cached_property\n",
    "    def gamma(self):\n",
    "        return norm.pdf(self.d1) / (self.S * self.sigma * math.sqrt(self.T))\n",
    "    \n",
    "    @functools.cached_property\n",
    "    def theta(self):\n",
    "        S, E, r, T, sigma, d1, d2 = self.S, self.E, self.r, self.T, self.sigma, self.d1, self.d2\n",
    "        return -0.5 * S * norm.pdf(d1) * sigma / math.sqrt(T) - r * E * math.exp(-r * T) * norm.cdf(d2)\n",
    "    \n",
    "    @functools.cached_property\n",
    "    def vega(self):\n",
    "        return self.S * math.sqrt(self.T) * norm.pdf(self.d1)\n",
    "    \n",
    "    def __implied_vol_objective(self, sigma0, S, E, r, T, C_obs):\n",
    "        eps = np.finfo(float).eps\n",
    "        d1 = (math.log(S / E) + (r + 0.5 * sigma0**2) * T) / (math.sqrt(sigma0**2 * T) + eps)\n",
    "        d2 = d1 - math.sqrt(sigma0**2 * T)\n",
    "        C = norm.cdf(d1) * S - E * math.exp(-r * T) * norm.cdf(d2)\n",
    "        return 0.5 * (C - C_obs)**2\n"
   ]
  },
  {
   "cell_type": "code",
   "execution_count": 97,
   "metadata": {},
   "outputs": [],
   "source": [
    "class Hedger:\n",
    "    pass"
   ]
  },
  {
   "cell_type": "code",
   "execution_count": 122,
   "metadata": {},
   "outputs": [
    {
     "name": "stdout",
     "output_type": "stream",
     "text": [
      "Warning: sheet name not specified; proceeding with 'isx15012010C'\n",
      "{'T': 86, 'T_norm': 0.3412698412698413, 'S': 491.34, 'r': 0.0011, '340': 152.2}\n"
     ]
    },
    {
     "ename": "AttributeError",
     "evalue": "'dict' object has no attribute 'filter'",
     "output_type": "error",
     "traceback": [
      "\u001b[0;31m---------------------------------------------------------------------------\u001b[0m",
      "\u001b[0;31mAttributeError\u001b[0m                            Traceback (most recent call last)",
      "\u001b[0;32m<ipython-input-122-355875f24212>\u001b[0m in \u001b[0;36m<module>\u001b[0;34m\u001b[0m\n\u001b[1;32m     10\u001b[0m \u001b[0mrow\u001b[0m \u001b[0;34m=\u001b[0m \u001b[0mnext\u001b[0m\u001b[0;34m(\u001b[0m\u001b[0mrows_iterator\u001b[0m\u001b[0;34m)\u001b[0m\u001b[0;34m\u001b[0m\u001b[0;34m\u001b[0m\u001b[0m\n\u001b[1;32m     11\u001b[0m \u001b[0mprint\u001b[0m\u001b[0;34m(\u001b[0m\u001b[0mrow\u001b[0m\u001b[0;34m)\u001b[0m\u001b[0;34m\u001b[0m\u001b[0;34m\u001b[0m\u001b[0m\n\u001b[0;32m---> 12\u001b[0;31m \u001b[0mbsm_prev\u001b[0m \u001b[0;34m=\u001b[0m \u001b[0mBSM\u001b[0m\u001b[0;34m.\u001b[0m\u001b[0mmake_from_series\u001b[0m\u001b[0;34m(\u001b[0m\u001b[0mrow\u001b[0m\u001b[0;34m,\u001b[0m \u001b[0mE\u001b[0m\u001b[0;34m)\u001b[0m\u001b[0;34m\u001b[0m\u001b[0;34m\u001b[0m\u001b[0m\n\u001b[0m\u001b[1;32m     13\u001b[0m \u001b[0mlong_prev\u001b[0m \u001b[0;34m=\u001b[0m \u001b[0mbsm_prev\u001b[0m\u001b[0;34m.\u001b[0m\u001b[0mC_obs\u001b[0m\u001b[0;34m\u001b[0m\u001b[0;34m\u001b[0m\u001b[0m\n\u001b[1;32m     14\u001b[0m \u001b[0mdelta_factor\u001b[0m \u001b[0;34m=\u001b[0m \u001b[0mbsm_prev\u001b[0m\u001b[0;34m.\u001b[0m\u001b[0mdelta\u001b[0m\u001b[0;34m\u001b[0m\u001b[0;34m\u001b[0m\u001b[0m\n",
      "\u001b[0;32m<ipython-input-96-942508730b1d>\u001b[0m in \u001b[0;36mmake_from_series\u001b[0;34m(ser, E, sigma)\u001b[0m\n\u001b[1;32m     22\u001b[0m     \u001b[0;34m@\u001b[0m\u001b[0mstaticmethod\u001b[0m\u001b[0;34m\u001b[0m\u001b[0;34m\u001b[0m\u001b[0m\n\u001b[1;32m     23\u001b[0m     \u001b[0;32mdef\u001b[0m \u001b[0mmake_from_series\u001b[0m\u001b[0;34m(\u001b[0m\u001b[0mser\u001b[0m\u001b[0;34m,\u001b[0m \u001b[0mE\u001b[0m\u001b[0;34m,\u001b[0m \u001b[0msigma\u001b[0m\u001b[0;34m=\u001b[0m\u001b[0;36m1.0\u001b[0m\u001b[0;34m)\u001b[0m\u001b[0;34m:\u001b[0m\u001b[0;34m\u001b[0m\u001b[0;34m\u001b[0m\u001b[0m\n\u001b[0;32m---> 24\u001b[0;31m         \u001b[0mser\u001b[0m \u001b[0;34m=\u001b[0m \u001b[0mser\u001b[0m\u001b[0;34m.\u001b[0m\u001b[0mfilter\u001b[0m\u001b[0;34m(\u001b[0m\u001b[0mregex\u001b[0m\u001b[0;34m=\u001b[0m\u001b[0mUtil\u001b[0m\u001b[0;34m.\u001b[0m\u001b[0mmake_regex_group_disjunction\u001b[0m\u001b[0;34m(\u001b[0m\u001b[0;34m[\u001b[0m\u001b[0;34m\"S\"\u001b[0m\u001b[0;34m,\u001b[0m \u001b[0mint\u001b[0m\u001b[0;34m(\u001b[0m\u001b[0mE\u001b[0m\u001b[0;34m)\u001b[0m\u001b[0;34m,\u001b[0m \u001b[0;34m\"r\"\u001b[0m\u001b[0;34m,\u001b[0m \u001b[0;34m\"T_norm\"\u001b[0m\u001b[0;34m]\u001b[0m\u001b[0;34m)\u001b[0m\u001b[0;34m,\u001b[0m \u001b[0maxis\u001b[0m\u001b[0;34m=\u001b[0m\u001b[0;34m\"index\"\u001b[0m\u001b[0;34m)\u001b[0m\u001b[0;34m\u001b[0m\u001b[0;34m\u001b[0m\u001b[0m\n\u001b[0m\u001b[1;32m     25\u001b[0m         \u001b[0;32massert\u001b[0m \u001b[0mser\u001b[0m\u001b[0;34m.\u001b[0m\u001b[0mshape\u001b[0m\u001b[0;34m[\u001b[0m\u001b[0;36m0\u001b[0m\u001b[0;34m]\u001b[0m \u001b[0;34m==\u001b[0m \u001b[0;36m4\u001b[0m\u001b[0;34m,\u001b[0m \u001b[0;34mf\"Error: The series should have an index of form [S, E, r, T_norm], got {ser.index}.\"\u001b[0m\u001b[0;34m\u001b[0m\u001b[0;34m\u001b[0m\u001b[0m\n\u001b[1;32m     26\u001b[0m         \u001b[0mS\u001b[0m\u001b[0;34m,\u001b[0m \u001b[0mr\u001b[0m\u001b[0;34m,\u001b[0m \u001b[0mT\u001b[0m\u001b[0;34m,\u001b[0m \u001b[0mC_obs\u001b[0m \u001b[0;34m=\u001b[0m \u001b[0mser\u001b[0m\u001b[0;34m.\u001b[0m\u001b[0marray\u001b[0m\u001b[0;34m\u001b[0m\u001b[0;34m\u001b[0m\u001b[0m\n",
      "\u001b[0;31mAttributeError\u001b[0m: 'dict' object has no attribute 'filter'"
     ]
    }
   ],
   "source": [
    "E = 340\n",
    "schedule = 2\n",
    "df = data.get_df_with_strikes(E).dropna()\n",
    "\n",
    "import time\n",
    "\n",
    "t0 = time.time()\n",
    "# t = 0:\n",
    "rows_iterator = iter(df.to_dict(\"records\"))\n",
    "row = next(rows_iterator)\n",
    "print(row)\n",
    "bsm_prev = BSM.make_from_series(row, E)\n",
    "long_prev = bsm_prev.C_obs\n",
    "delta_factor = bsm_prev.delta\n",
    "short_prev = delta_factor * bsm_prev.S\n",
    "\n",
    "# 0 < t < T:\n",
    "mse = 0.0\n",
    "for t, row in rows_iterator:\n",
    "    bsm = BSM.make_from_series(row, E)\n",
    "    long = bsm.C_obs\n",
    "    dlong = long - long_prev\n",
    "    short = delta_factor * bsm.S\n",
    "    dshort = short - short_prev\n",
    "    mse += (dlong - dshort)**2\n",
    "    long_prev = long\n",
    "    bsm_prev = bsm\n",
    "    # Rehedge?\n",
    "    if t % schedule == 0:\n",
    "        delta_factor = bsm.delta\n",
    "        short_prev = delta_factor * bsm.S\n",
    "    else:\n",
    "        short_prev = short\n",
    "\n",
    "mse /= df.shape[0]\n",
    "\n",
    "t1 = time.time()\n",
    "print(f\"Took {(t1 - t0)*1000:.2f} ms\")"
   ]
  },
  {
   "cell_type": "code",
   "execution_count": 112,
   "metadata": {},
   "outputs": [
    {
     "name": "stdout",
     "output_type": "stream",
     "text": [
      "Single option delta hedging mse=21.88\n"
     ]
    }
   ],
   "source": [
    "print(f\"Single option delta hedging {mse=:.2f}\")"
   ]
  },
  {
   "cell_type": "code",
   "execution_count": null,
   "metadata": {},
   "outputs": [],
   "source": []
  }
 ],
 "metadata": {
  "kernelspec": {
   "display_name": "Python 3",
   "language": "python",
   "name": "python3"
  },
  "language_info": {
   "codemirror_mode": {
    "name": "ipython",
    "version": 3
   },
   "file_extension": ".py",
   "mimetype": "text/x-python",
   "name": "python",
   "nbconvert_exporter": "python",
   "pygments_lexer": "ipython3",
   "version": "3.8.6"
  },
  "varInspector": {
   "cols": {
    "lenName": 16,
    "lenType": 16,
    "lenVar": 40
   },
   "kernels_config": {
    "python": {
     "delete_cmd_postfix": "",
     "delete_cmd_prefix": "del ",
     "library": "var_list.py",
     "varRefreshCmd": "print(var_dic_list())"
    },
    "r": {
     "delete_cmd_postfix": ") ",
     "delete_cmd_prefix": "rm(",
     "library": "var_list.r",
     "varRefreshCmd": "cat(var_dic_list()) "
    }
   },
   "types_to_exclude": [
    "module",
    "function",
    "builtin_function_or_method",
    "instance",
    "_Feature"
   ],
   "window_display": false
  }
 },
 "nbformat": 4,
 "nbformat_minor": 4
}
