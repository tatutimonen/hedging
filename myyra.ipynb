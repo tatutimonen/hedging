{
 "cells": [
  {
   "cell_type": "code",
   "execution_count": 2,
   "metadata": {},
   "outputs": [],
   "source": [
    "import os\n",
    "import sys\n",
    "import math\n",
    "import re\n",
    "import time\n",
    "import functools\n",
    "import itertools\n",
    "from abc import ABC\n",
    "from dataclasses import dataclass, field\n",
    "import pandas as pd\n",
    "pd.set_option(\"display.max_columns\", None)\n",
    "import numpy as np\n",
    "from scipy.linalg import solve\n",
    "from scipy.stats import norm\n",
    "from scipy.optimize import minimize\n",
    "import matplotlib.pyplot as plt\n",
    "!{sys.executable} -m pip install pyfinance -q\n",
    "from pyfinance.options import BSM as BSMAux"
   ]
  },
  {
   "cell_type": "markdown",
   "metadata": {},
   "source": [
    "Add any general utility functions as static member functions to this class. They can be called as `Util.fn`."
   ]
  },
  {
   "cell_type": "code",
   "execution_count": 3,
   "metadata": {},
   "outputs": [],
   "source": [
    "class Util:\n",
    "    def __init__(self):\n",
    "        raise TypeError(\"Non-instantiable class\")\n",
    "        \n",
    "    def __new__(self, *args, **kwargs):\n",
    "        raise TypeError(\"Non-instantiable class\")\n",
    "        \n",
    "    @staticmethod\n",
    "    def make_regex_group_disjunction(coll):\n",
    "        return \"|\".join(map(lambda x: f\"({str(x)})\", coll))"
   ]
  },
  {
   "cell_type": "code",
   "execution_count": 86,
   "metadata": {},
   "outputs": [],
   "source": [
    "class OptionsData:\n",
    "    data_dir = \"data\"\n",
    "    default_filename = \"isx2010C.xls\"\n",
    "    \n",
    "    def __init__(self, filename=default_filename, clean=True):\n",
    "        filepath = os.path.join(self.data_dir, filename)\n",
    "        if not os.path.isfile(filepath):\n",
    "            faulty_filepath = filepath\n",
    "            filepath = os.path.join(self.data_dir, self.default_filename)\n",
    "            print(f\"[{type(self).__name__}] Warning: could not find {faulty_filepath!r}; proceeding with {filepath!r}\")\n",
    "        self.__sheet_df_dict = pd.read_excel(filepath, sheet_name=None)\n",
    "        sheets = list(self.__sheet_df_dict.keys())\n",
    "        self.__sheet_succ = dict(zip(sheets, sheets[1:] + [sheets[-1]]))\n",
    "        if clean:\n",
    "            for key, val in self.__sheet_df_dict.items():\n",
    "                self.__sheet_df_dict[key] = self.__clean_df(val)\n",
    "                \n",
    "    def __get_item__(self, key):\n",
    "        return self.__sheet_df_dict[key]\n",
    "    \n",
    "    def get_sheet_names(self):\n",
    "        return list(self.__sheet_succ.keys())\n",
    "    \n",
    "    def get_sheet_df_dict(self):\n",
    "        return self.__sheet_df_dict\n",
    "    \n",
    "    def get_next_sheet_name(self, sheet_name):\n",
    "        assert sheet_name in self.__sheet_succ\n",
    "        return self.__sheet_succ[sheet_name]\n",
    "    \n",
    "    def get_df(self, E=None, sheet_name=\"\"):\n",
    "        if not sheet_name:\n",
    "            sheet_name = list(self.__sheet_df_dict.keys())[0]\n",
    "            print(f\"[{type(self).__name__}] Warning: sheet name not specified; proceeding with {sheet_name!r}\")\n",
    "        df = self.__sheet_df_dict[sheet_name]\n",
    "        common = [\"T\", \"T_norm\", \"S\", \"r\"]\n",
    "        if not E:\n",
    "            return df[[*common, *filter(lambda x: re.match(r\"[0-9]+\", x), df.columns)]]\n",
    "        strikes = E if type(E) is list or type(E) is tuple else [E]\n",
    "        cols = [*common, *map(lambda x: str(int(x)), strikes)]\n",
    "        return df[cols]\n",
    "    \n",
    "    def __clean_df(self, df):\n",
    "        # Discard rows where no options data is available.\n",
    "        df = df.dropna(how=\"all\")\n",
    "        # Rename the columns according to the following convention:\n",
    "        #  T = Time to Maturity\n",
    "        #  S = Price of the Underlying\n",
    "        #  r = Risk-Free Interest Rate\n",
    "        df = df.rename(lambda x: self.__rename_df_cols(str(x), df), axis=\"columns\")\n",
    "        # Adjust the interest rate properly.\n",
    "        df[\"r\"] = df[\"r\"] / 100\n",
    "        # Add new column with annual-normalized T (252 = no. trading days in a year).\n",
    "        df[\"T_norm\"] = df[\"T\"] / 252\n",
    "        # Re-arrange the columns.\n",
    "        common = [\"S\", \"r\", \"T\", \"T_norm\"]\n",
    "        cols = [*common, *filter(lambda x: re.search(\"[0-9]+\", x), df.columns.astype(str))]\n",
    "        return df[cols]\n",
    "    \n",
    "    def __rename_df_cols(self, col_name, df):\n",
    "        ncol = len(df.columns)\n",
    "        # Time to maturity | (price of the underlying | risk-free rate).\n",
    "        regex = r\"(?P<T>[0-9]+(-[0-9]{2}){2} ([0-9]{2}:){2}[0-9]{2})|(?P<Sr>Unnamed: (?P<idx>[0-9]+))\"\n",
    "        match = re.match(regex, col_name)\n",
    "        if not match:\n",
    "            return col_name\n",
    "        if match[\"T\"]:\n",
    "            return \"T\"\n",
    "        elif match[\"Sr\"]:\n",
    "            col_idx = int(match[\"idx\"])\n",
    "            # Third last depicts the price of the underlying...\n",
    "            if col_idx == ncol - 3:\n",
    "                return \"S\"\n",
    "            # ...and the second last the risk free rate.\n",
    "            elif col_idx == ncol - 2:\n",
    "                return \"r\"\n"
   ]
  },
  {
   "cell_type": "code",
   "execution_count": 88,
   "metadata": {},
   "outputs": [
    {
     "data": {
      "text/plain": [
       "['isx15012010C',\n",
       " 'isx19022010C',\n",
       " 'isx17122010C',\n",
       " 'isx19112010C',\n",
       " 'isx15102010C',\n",
       " 'isx17092010C',\n",
       " 'isx20082010C',\n",
       " 'isx16072010C',\n",
       " 'isx18062010C',\n",
       " 'isx21052010C',\n",
       " 'isx16042010C',\n",
       " 'isx19032010C']"
      ]
     },
     "execution_count": 88,
     "metadata": {},
     "output_type": "execute_result"
    }
   ],
   "source": [
    "data = OptionsData(\"isx2010C.xls\")\n",
    "data.get_sheet_names()"
   ]
  },
  {
   "cell_type": "markdown",
   "metadata": {},
   "source": [
    "A class encapsulating the Black-Scholes-Merton model and related computations, such as Greeks. Can create instances from `pd.Series` objects (as returned by pd.DataFrame.iterrows) via the `BSM.make_from_series` factory method."
   ]
  },
  {
   "cell_type": "code",
   "execution_count": 59,
   "metadata": {},
   "outputs": [],
   "source": [
    "@dataclass(frozen=True)\n",
    "class BSM:\n",
    "    S: float\n",
    "    E: float\n",
    "    r: float\n",
    "    T: float\n",
    "    C_obs: float\n",
    "    sigma: float = 1.0\n",
    "    d1: float = field(init=False)\n",
    "    d2: float = field(init=False)\n",
    "    \n",
    "    def __post_init__(self):\n",
    "        S, E, r, T, C_obs, sigma = self.S, self.E, self.r, self.T, self.C_obs, self.sigma\n",
    "        sigma = BSMAux(S0=S, K=E, T=T, r=r, sigma=0.5, kind='call').implied_vol(C_obs)\n",
    "        object.__setattr__(self, \"sigma\", sigma)\n",
    "        eps = np.finfo(float).eps\n",
    "        d1 = (math.log(S / E) + (r + 0.5 * self.sigma**2) * T) / (sigma * math.sqrt(T) + eps)\n",
    "        object.__setattr__(self, \"d1\", d1)\n",
    "        d2 = self.d1 - self.sigma * math.sqrt(T)\n",
    "        object.__setattr__(self, \"d2\", d2)\n",
    "        \n",
    "    @staticmethod    \n",
    "    def make_from_dict(d, E):\n",
    "        return BSM(d[\"S\"], int(E), d[\"r\"], d[\"T_norm\"], d[E])\n",
    "    \n",
    "    @staticmethod\n",
    "    def make_from_series(ser, E, sigma=1.0):\n",
    "        ser = ser.filter(regex=Util.make_regex_group_disjunction([\"S\", int(E), \"r\", \"T_norm\"]), axis=\"index\")\n",
    "        assert ser.shape[0] == 4, f\"[{type(self).__name__}] Error: The Series should have an index of form [S, E, r, T_norm], got {ser.index}.\"\n",
    "        S, r, T, C_obs = ser.array\n",
    "        return BSM(S, E, r, T, C_obs, sigma=sigma)\n",
    "    \n",
    "    @functools.cached_property\n",
    "    def delta(self):\n",
    "        return norm.cdf(self.d1)\n",
    "    \n",
    "    @functools.cached_property\n",
    "    def gamma(self):\n",
    "        return norm.pdf(self.d1) / (self.S * self.sigma * math.sqrt(self.T))\n",
    "    \n",
    "    @functools.cached_property\n",
    "    def theta(self):\n",
    "        S, E, r, T, sigma, d1, d2 = self.S, self.E, self.r, self.T, self.sigma, self.d1, self.d2\n",
    "        return -0.5 * S * norm.pdf(d1) * sigma / math.sqrt(T) - r * E * math.exp(-r * T) * norm.cdf(d2)\n",
    "    \n",
    "    @functools.cached_property\n",
    "    def vega(self):\n",
    "        return self.S * math.sqrt(self.T) * norm.pdf(self.d1)\n"
   ]
  },
  {
   "cell_type": "code",
   "execution_count": 60,
   "metadata": {},
   "outputs": [
    {
     "name": "stdout",
     "output_type": "stream",
     "text": [
      "[OptionsData] Warning: sheet name not specified; proceeding with 'isx15012010C'\n",
      "Day 0\n",
      "        delta     gamma        vega\n",
      "340  0.979830       NaN   13.997796\n",
      "345       NaN       NaN         NaN\n",
      "350       NaN       NaN         NaN\n",
      "355       NaN       NaN         NaN\n",
      "360  0.968614       NaN   20.274473\n",
      "365       NaN       NaN         NaN\n",
      "370       NaN       NaN         NaN\n",
      "375       NaN       NaN         NaN\n",
      "380  0.951548  0.001256   28.869144\n",
      "385       NaN       NaN         NaN\n",
      "390       NaN       NaN         NaN\n",
      "395       NaN       NaN         NaN\n",
      "400  0.918179  0.001963   43.403146\n",
      "405       NaN       NaN         NaN\n",
      "410       NaN       NaN         NaN\n",
      "415       NaN       NaN         NaN\n",
      "420  0.872182  0.002876   60.011561\n",
      "425       NaN       NaN         NaN\n",
      "430       NaN       NaN         NaN\n",
      "435       NaN       NaN         NaN\n",
      "440  0.807413  0.004019   78.539065\n",
      "445       NaN       NaN         NaN\n",
      "450       NaN       NaN         NaN\n",
      "455       NaN       NaN         NaN\n",
      "460  0.716861  0.005282   97.142809\n",
      "465       NaN       NaN         NaN\n",
      "470       NaN       NaN         NaN\n",
      "475       NaN       NaN         NaN\n",
      "480  0.600874  0.006448  110.829038\n",
      "485       NaN       NaN         NaN\n",
      "490       NaN       NaN         NaN\n",
      "495       NaN       NaN         NaN\n",
      "500  0.463360  0.007058  114.026100\n",
      "505       NaN       NaN         NaN\n",
      "510       NaN       NaN         NaN\n",
      "515       NaN       NaN         NaN\n",
      "520  0.320293  0.006735  102.685257\n",
      "525       NaN       NaN         NaN\n",
      "530       NaN       NaN         NaN\n",
      "535       NaN       NaN         NaN\n",
      "540       NaN       NaN         NaN\n",
      "545       NaN       NaN         NaN\n",
      "550       NaN       NaN         NaN\n",
      "555       NaN       NaN         NaN\n",
      "560       NaN       NaN         NaN\n",
      "565       NaN       NaN         NaN\n",
      "570       NaN       NaN         NaN\n",
      "--------------------------------------------------\n"
     ]
    }
   ],
   "source": [
    "test = data.get_df()\n",
    "td = test.to_dict(\"index\")\n",
    "for t, row in td.items():\n",
    "    print(f\"Day {t}\")\n",
    "    strikes = list(filter(lambda x: re.match(r\"[0-9]+\", x), row.keys()))\n",
    "    BSMs = {}\n",
    "    for E in strikes:\n",
    "        BSMs[E] = BSM.make_from_dict(row, E)\n",
    "    greeks = pd.DataFrame(index=strikes)\n",
    "    greeks[\"delta\"] = pd.Series([BSMs[E].delta for E in greeks.index], index=greeks.index)\n",
    "    greeks[\"gamma\"] = pd.Series([BSMs[E].gamma for E in greeks.index], index=greeks.index)\n",
    "    greeks[\"vega\"] = pd.Series([BSMs[E].vega for E in greeks.index], index=greeks.index)\n",
    "    print(greeks[greeks > 0.001])\n",
    "    print(\"-\" * 50)\n",
    "    break\n"
   ]
  },
  {
   "cell_type": "code",
   "execution_count": 61,
   "metadata": {},
   "outputs": [
    {
     "name": "stdout",
     "output_type": "stream",
     "text": [
      "        delta     gamma        vega\n",
      "340  0.979830  0.000000   13.997796\n",
      "360  0.968614  0.000000   20.274473\n",
      "380  0.951548  0.001256   28.869144\n",
      "400  0.918179  0.001963   43.403146\n",
      "420  0.872182  0.002876   60.011561\n",
      "440  0.807413  0.004019   78.539065\n",
      "460  0.716861  0.005282   97.142809\n",
      "480  0.600874  0.006448  110.829038\n",
      "500  0.463360  0.007058  114.026100\n",
      "520  0.320293  0.006735  102.685257\n"
     ]
    },
    {
     "ename": "KeyError",
     "evalue": "'490'",
     "output_type": "error",
     "traceback": [
      "\u001b[0;31m---------------------------------------------------------------------------\u001b[0m",
      "\u001b[0;31mKeyError\u001b[0m                                  Traceback (most recent call last)",
      "\u001b[0;32m/opt/conda/lib/python3.8/site-packages/pandas/core/indexes/base.py\u001b[0m in \u001b[0;36mget_loc\u001b[0;34m(self, key, method, tolerance)\u001b[0m\n\u001b[1;32m   2897\u001b[0m             \u001b[0;32mtry\u001b[0m\u001b[0;34m:\u001b[0m\u001b[0;34m\u001b[0m\u001b[0;34m\u001b[0m\u001b[0m\n\u001b[0;32m-> 2898\u001b[0;31m                 \u001b[0;32mreturn\u001b[0m \u001b[0mself\u001b[0m\u001b[0;34m.\u001b[0m\u001b[0m_engine\u001b[0m\u001b[0;34m.\u001b[0m\u001b[0mget_loc\u001b[0m\u001b[0;34m(\u001b[0m\u001b[0mcasted_key\u001b[0m\u001b[0;34m)\u001b[0m\u001b[0;34m\u001b[0m\u001b[0;34m\u001b[0m\u001b[0m\n\u001b[0m\u001b[1;32m   2899\u001b[0m             \u001b[0;32mexcept\u001b[0m \u001b[0mKeyError\u001b[0m \u001b[0;32mas\u001b[0m \u001b[0merr\u001b[0m\u001b[0;34m:\u001b[0m\u001b[0;34m\u001b[0m\u001b[0;34m\u001b[0m\u001b[0m\n",
      "\u001b[0;32mpandas/_libs/index.pyx\u001b[0m in \u001b[0;36mpandas._libs.index.IndexEngine.get_loc\u001b[0;34m()\u001b[0m\n",
      "\u001b[0;32mpandas/_libs/index.pyx\u001b[0m in \u001b[0;36mpandas._libs.index.IndexEngine.get_loc\u001b[0;34m()\u001b[0m\n",
      "\u001b[0;32mpandas/_libs/hashtable_class_helper.pxi\u001b[0m in \u001b[0;36mpandas._libs.hashtable.PyObjectHashTable.get_item\u001b[0;34m()\u001b[0m\n",
      "\u001b[0;32mpandas/_libs/hashtable_class_helper.pxi\u001b[0m in \u001b[0;36mpandas._libs.hashtable.PyObjectHashTable.get_item\u001b[0;34m()\u001b[0m\n",
      "\u001b[0;31mKeyError\u001b[0m: '490'",
      "\nThe above exception was the direct cause of the following exception:\n",
      "\u001b[0;31mKeyError\u001b[0m                                  Traceback (most recent call last)",
      "\u001b[0;32m<ipython-input-61-92ba6234d8d4>\u001b[0m in \u001b[0;36m<module>\u001b[0;34m\u001b[0m\n\u001b[1;32m     11\u001b[0m \u001b[0mprint\u001b[0m\u001b[0;34m(\u001b[0m\u001b[0mGs\u001b[0m\u001b[0;34m)\u001b[0m\u001b[0;34m\u001b[0m\u001b[0;34m\u001b[0m\u001b[0m\n\u001b[1;32m     12\u001b[0m \u001b[0;31m# G*w = p\u001b[0m\u001b[0;34m\u001b[0m\u001b[0;34m\u001b[0m\u001b[0;34m\u001b[0m\u001b[0m\n\u001b[0;32m---> 13\u001b[0;31m \u001b[0mp\u001b[0m \u001b[0;34m=\u001b[0m \u001b[0mGs\u001b[0m\u001b[0;34m.\u001b[0m\u001b[0mloc\u001b[0m\u001b[0;34m[\u001b[0m\u001b[0mstrike_to_buy\u001b[0m\u001b[0;34m]\u001b[0m\u001b[0;34m.\u001b[0m\u001b[0mto_numpy\u001b[0m\u001b[0;34m(\u001b[0m\u001b[0;34m)\u001b[0m\u001b[0;34m[\u001b[0m\u001b[0;36m0\u001b[0m\u001b[0;34m]\u001b[0m\u001b[0;34m\u001b[0m\u001b[0;34m\u001b[0m\u001b[0m\n\u001b[0m\u001b[1;32m     14\u001b[0m \u001b[0mG\u001b[0m \u001b[0;34m=\u001b[0m \u001b[0mp\u001b[0m\u001b[0;34m\u001b[0m\u001b[0;34m\u001b[0m\u001b[0m\n\u001b[1;32m     15\u001b[0m \u001b[0mres\u001b[0m \u001b[0;34m=\u001b[0m \u001b[0msolve\u001b[0m\u001b[0;34m(\u001b[0m\u001b[0mG\u001b[0m\u001b[0;34m,\u001b[0m \u001b[0mp\u001b[0m\u001b[0;34m)\u001b[0m\u001b[0;34m\u001b[0m\u001b[0;34m\u001b[0m\u001b[0m\n",
      "\u001b[0;32m/opt/conda/lib/python3.8/site-packages/pandas/core/indexing.py\u001b[0m in \u001b[0;36m__getitem__\u001b[0;34m(self, key)\u001b[0m\n\u001b[1;32m    877\u001b[0m \u001b[0;34m\u001b[0m\u001b[0m\n\u001b[1;32m    878\u001b[0m             \u001b[0mmaybe_callable\u001b[0m \u001b[0;34m=\u001b[0m \u001b[0mcom\u001b[0m\u001b[0;34m.\u001b[0m\u001b[0mapply_if_callable\u001b[0m\u001b[0;34m(\u001b[0m\u001b[0mkey\u001b[0m\u001b[0;34m,\u001b[0m \u001b[0mself\u001b[0m\u001b[0;34m.\u001b[0m\u001b[0mobj\u001b[0m\u001b[0;34m)\u001b[0m\u001b[0;34m\u001b[0m\u001b[0;34m\u001b[0m\u001b[0m\n\u001b[0;32m--> 879\u001b[0;31m             \u001b[0;32mreturn\u001b[0m \u001b[0mself\u001b[0m\u001b[0;34m.\u001b[0m\u001b[0m_getitem_axis\u001b[0m\u001b[0;34m(\u001b[0m\u001b[0mmaybe_callable\u001b[0m\u001b[0;34m,\u001b[0m \u001b[0maxis\u001b[0m\u001b[0;34m=\u001b[0m\u001b[0maxis\u001b[0m\u001b[0;34m)\u001b[0m\u001b[0;34m\u001b[0m\u001b[0;34m\u001b[0m\u001b[0m\n\u001b[0m\u001b[1;32m    880\u001b[0m \u001b[0;34m\u001b[0m\u001b[0m\n\u001b[1;32m    881\u001b[0m     \u001b[0;32mdef\u001b[0m \u001b[0m_is_scalar_access\u001b[0m\u001b[0;34m(\u001b[0m\u001b[0mself\u001b[0m\u001b[0;34m,\u001b[0m \u001b[0mkey\u001b[0m\u001b[0;34m:\u001b[0m \u001b[0mTuple\u001b[0m\u001b[0;34m)\u001b[0m\u001b[0;34m:\u001b[0m\u001b[0;34m\u001b[0m\u001b[0;34m\u001b[0m\u001b[0m\n",
      "\u001b[0;32m/opt/conda/lib/python3.8/site-packages/pandas/core/indexing.py\u001b[0m in \u001b[0;36m_getitem_axis\u001b[0;34m(self, key, axis)\u001b[0m\n\u001b[1;32m   1108\u001b[0m         \u001b[0;31m# fall thru to straight lookup\u001b[0m\u001b[0;34m\u001b[0m\u001b[0;34m\u001b[0m\u001b[0;34m\u001b[0m\u001b[0m\n\u001b[1;32m   1109\u001b[0m         \u001b[0mself\u001b[0m\u001b[0;34m.\u001b[0m\u001b[0m_validate_key\u001b[0m\u001b[0;34m(\u001b[0m\u001b[0mkey\u001b[0m\u001b[0;34m,\u001b[0m \u001b[0maxis\u001b[0m\u001b[0;34m)\u001b[0m\u001b[0;34m\u001b[0m\u001b[0;34m\u001b[0m\u001b[0m\n\u001b[0;32m-> 1110\u001b[0;31m         \u001b[0;32mreturn\u001b[0m \u001b[0mself\u001b[0m\u001b[0;34m.\u001b[0m\u001b[0m_get_label\u001b[0m\u001b[0;34m(\u001b[0m\u001b[0mkey\u001b[0m\u001b[0;34m,\u001b[0m \u001b[0maxis\u001b[0m\u001b[0;34m=\u001b[0m\u001b[0maxis\u001b[0m\u001b[0;34m)\u001b[0m\u001b[0;34m\u001b[0m\u001b[0;34m\u001b[0m\u001b[0m\n\u001b[0m\u001b[1;32m   1111\u001b[0m \u001b[0;34m\u001b[0m\u001b[0m\n\u001b[1;32m   1112\u001b[0m     \u001b[0;32mdef\u001b[0m \u001b[0m_get_slice_axis\u001b[0m\u001b[0;34m(\u001b[0m\u001b[0mself\u001b[0m\u001b[0;34m,\u001b[0m \u001b[0mslice_obj\u001b[0m\u001b[0;34m:\u001b[0m \u001b[0mslice\u001b[0m\u001b[0;34m,\u001b[0m \u001b[0maxis\u001b[0m\u001b[0;34m:\u001b[0m \u001b[0mint\u001b[0m\u001b[0;34m)\u001b[0m\u001b[0;34m:\u001b[0m\u001b[0;34m\u001b[0m\u001b[0;34m\u001b[0m\u001b[0m\n",
      "\u001b[0;32m/opt/conda/lib/python3.8/site-packages/pandas/core/indexing.py\u001b[0m in \u001b[0;36m_get_label\u001b[0;34m(self, label, axis)\u001b[0m\n\u001b[1;32m   1057\u001b[0m     \u001b[0;32mdef\u001b[0m \u001b[0m_get_label\u001b[0m\u001b[0;34m(\u001b[0m\u001b[0mself\u001b[0m\u001b[0;34m,\u001b[0m \u001b[0mlabel\u001b[0m\u001b[0;34m,\u001b[0m \u001b[0maxis\u001b[0m\u001b[0;34m:\u001b[0m \u001b[0mint\u001b[0m\u001b[0;34m)\u001b[0m\u001b[0;34m:\u001b[0m\u001b[0;34m\u001b[0m\u001b[0;34m\u001b[0m\u001b[0m\n\u001b[1;32m   1058\u001b[0m         \u001b[0;31m# GH#5667 this will fail if the label is not present in the axis.\u001b[0m\u001b[0;34m\u001b[0m\u001b[0;34m\u001b[0m\u001b[0;34m\u001b[0m\u001b[0m\n\u001b[0;32m-> 1059\u001b[0;31m         \u001b[0;32mreturn\u001b[0m \u001b[0mself\u001b[0m\u001b[0;34m.\u001b[0m\u001b[0mobj\u001b[0m\u001b[0;34m.\u001b[0m\u001b[0mxs\u001b[0m\u001b[0;34m(\u001b[0m\u001b[0mlabel\u001b[0m\u001b[0;34m,\u001b[0m \u001b[0maxis\u001b[0m\u001b[0;34m=\u001b[0m\u001b[0maxis\u001b[0m\u001b[0;34m)\u001b[0m\u001b[0;34m\u001b[0m\u001b[0;34m\u001b[0m\u001b[0m\n\u001b[0m\u001b[1;32m   1060\u001b[0m \u001b[0;34m\u001b[0m\u001b[0m\n\u001b[1;32m   1061\u001b[0m     \u001b[0;32mdef\u001b[0m \u001b[0m_handle_lowerdim_multi_index_axis0\u001b[0m\u001b[0;34m(\u001b[0m\u001b[0mself\u001b[0m\u001b[0;34m,\u001b[0m \u001b[0mtup\u001b[0m\u001b[0;34m:\u001b[0m \u001b[0mTuple\u001b[0m\u001b[0;34m)\u001b[0m\u001b[0;34m:\u001b[0m\u001b[0;34m\u001b[0m\u001b[0;34m\u001b[0m\u001b[0m\n",
      "\u001b[0;32m/opt/conda/lib/python3.8/site-packages/pandas/core/generic.py\u001b[0m in \u001b[0;36mxs\u001b[0;34m(self, key, axis, level, drop_level)\u001b[0m\n\u001b[1;32m   3491\u001b[0m             \u001b[0mloc\u001b[0m\u001b[0;34m,\u001b[0m \u001b[0mnew_index\u001b[0m \u001b[0;34m=\u001b[0m \u001b[0mself\u001b[0m\u001b[0;34m.\u001b[0m\u001b[0mindex\u001b[0m\u001b[0;34m.\u001b[0m\u001b[0mget_loc_level\u001b[0m\u001b[0;34m(\u001b[0m\u001b[0mkey\u001b[0m\u001b[0;34m,\u001b[0m \u001b[0mdrop_level\u001b[0m\u001b[0;34m=\u001b[0m\u001b[0mdrop_level\u001b[0m\u001b[0;34m)\u001b[0m\u001b[0;34m\u001b[0m\u001b[0;34m\u001b[0m\u001b[0m\n\u001b[1;32m   3492\u001b[0m         \u001b[0;32melse\u001b[0m\u001b[0;34m:\u001b[0m\u001b[0;34m\u001b[0m\u001b[0;34m\u001b[0m\u001b[0m\n\u001b[0;32m-> 3493\u001b[0;31m             \u001b[0mloc\u001b[0m \u001b[0;34m=\u001b[0m \u001b[0mself\u001b[0m\u001b[0;34m.\u001b[0m\u001b[0mindex\u001b[0m\u001b[0;34m.\u001b[0m\u001b[0mget_loc\u001b[0m\u001b[0;34m(\u001b[0m\u001b[0mkey\u001b[0m\u001b[0;34m)\u001b[0m\u001b[0;34m\u001b[0m\u001b[0;34m\u001b[0m\u001b[0m\n\u001b[0m\u001b[1;32m   3494\u001b[0m \u001b[0;34m\u001b[0m\u001b[0m\n\u001b[1;32m   3495\u001b[0m             \u001b[0;32mif\u001b[0m \u001b[0misinstance\u001b[0m\u001b[0;34m(\u001b[0m\u001b[0mloc\u001b[0m\u001b[0;34m,\u001b[0m \u001b[0mnp\u001b[0m\u001b[0;34m.\u001b[0m\u001b[0mndarray\u001b[0m\u001b[0;34m)\u001b[0m\u001b[0;34m:\u001b[0m\u001b[0;34m\u001b[0m\u001b[0;34m\u001b[0m\u001b[0m\n",
      "\u001b[0;32m/opt/conda/lib/python3.8/site-packages/pandas/core/indexes/base.py\u001b[0m in \u001b[0;36mget_loc\u001b[0;34m(self, key, method, tolerance)\u001b[0m\n\u001b[1;32m   2898\u001b[0m                 \u001b[0;32mreturn\u001b[0m \u001b[0mself\u001b[0m\u001b[0;34m.\u001b[0m\u001b[0m_engine\u001b[0m\u001b[0;34m.\u001b[0m\u001b[0mget_loc\u001b[0m\u001b[0;34m(\u001b[0m\u001b[0mcasted_key\u001b[0m\u001b[0;34m)\u001b[0m\u001b[0;34m\u001b[0m\u001b[0;34m\u001b[0m\u001b[0m\n\u001b[1;32m   2899\u001b[0m             \u001b[0;32mexcept\u001b[0m \u001b[0mKeyError\u001b[0m \u001b[0;32mas\u001b[0m \u001b[0merr\u001b[0m\u001b[0;34m:\u001b[0m\u001b[0;34m\u001b[0m\u001b[0;34m\u001b[0m\u001b[0m\n\u001b[0;32m-> 2900\u001b[0;31m                 \u001b[0;32mraise\u001b[0m \u001b[0mKeyError\u001b[0m\u001b[0;34m(\u001b[0m\u001b[0mkey\u001b[0m\u001b[0;34m)\u001b[0m \u001b[0;32mfrom\u001b[0m \u001b[0merr\u001b[0m\u001b[0;34m\u001b[0m\u001b[0;34m\u001b[0m\u001b[0m\n\u001b[0m\u001b[1;32m   2901\u001b[0m \u001b[0;34m\u001b[0m\u001b[0m\n\u001b[1;32m   2902\u001b[0m         \u001b[0;32mif\u001b[0m \u001b[0mtolerance\u001b[0m \u001b[0;32mis\u001b[0m \u001b[0;32mnot\u001b[0m \u001b[0;32mNone\u001b[0m\u001b[0;34m:\u001b[0m\u001b[0;34m\u001b[0m\u001b[0;34m\u001b[0m\u001b[0m\n",
      "\u001b[0;31mKeyError\u001b[0m: '490'"
     ]
    }
   ],
   "source": [
    "t = 0\n",
    "strike_step = 5\n",
    "S = td[t][\"S\"]\n",
    "S\n",
    "strikes = list(filter(lambda x: re.match(r\"\\d+\", x), td[t].keys()))\n",
    "strike_to_buy = strikes[np.argmin(np.abs(np.array(strikes, dtype=np.int64) - S))]\n",
    "strike_to_buy\n",
    "Gs = greeks[greeks > 0.001].dropna(how='all')\n",
    "strike_to_buy\n",
    "Gs = Gs.fillna(0)\n",
    "print(Gs)\n",
    "# G*w = p\n",
    "p = Gs.loc[strike_to_buy].to_numpy()[0]\n",
    "G = p\n",
    "res = solve(G, p)\n",
    "p - res*p"
   ]
  },
  {
   "cell_type": "code",
   "execution_count": 128,
   "metadata": {},
   "outputs": [],
   "source": [
    "'''\n",
    "test = data.get_df()\n",
    "td = test.to_dict(\"index\")\n",
    "for t, row in td.items():\n",
    "    print(f\"Day {t}\")\n",
    "    strikes = list(filter(lambda x: re.match(r\"[0-9]+\", x), row.keys()))\n",
    "    BSMs = {}\n",
    "    for E in strikes:\n",
    "        BSMs[E] = BSM.make_from_dict(row, E)\n",
    "    greeks = pd.DataFrame(index=strikes)\n",
    "    greeks[\"delta\"] = pd.Series([BSMs[E].delta for E in greeks.index], index=greeks.index)\n",
    "    greeks[\"gamma\"] = pd.Series([BSMs[E].gamma for E in greeks.index], index=greeks.index)\n",
    "    greeks[\"vega\"] = pd.Series([BSMs[E].vega for E in greeks.index], index=greeks.index)\n",
    "    print(greeks[greeks > 0.001])\n",
    "    print(\"-\" * 50)\n",
    "    break\n",
    "'''\n",
    "\n",
    "class Hedger:\n",
    "    @dataclass\n",
    "    class HedgingStats:\n",
    "        cost_basis: float\n",
    "        mse: float = 0.0\n",
    "        total_cost: float = 0.0\n",
    "            \n",
    "        def __repr__(self):\n",
    "            return (f\"[Hedger.{type(self).__name__}]: \"\n",
    "                    f\"Assuming a cost basis of {self.cost_basis*100:.2f}%, mean-squared error \"\n",
    "                    f\"of hedging was {self.mse:.2f}, and the total costs were ${self.total_cost:.2f}.\")\n",
    "    \n",
    "    @dataclass\n",
    "    class DeltaState:\n",
    "        long: float\n",
    "        short: float\n",
    "        delta: float\n",
    "\n",
    "    def delta_hedge(self, data, sheet_name=\"\", portfolio_size=2, schedule=2, cost_basis=0.01):\n",
    "        df = data.get_df(sheet_name=sheet_name)\n",
    "        \n",
    "        # We consider at-the-money options.\n",
    "        day0 = df.iloc[0]\n",
    "        strikes = day0.dropna().filter(regex=r\"\\d+\").index\n",
    "        option_value_ser = pd.Series(data=strikes, index=strikes, dtype=int).apply(lambda E: abs(day0.S - E))\n",
    "        strikes_considered = option_value_ser.iloc[np.argsort(option_value_ser)[:portfolio_size]]\n",
    "        print((f\"[{type(self).__name__}] Info: \"\n",
    "               f\"Considering a position in call(s) with strike price(s) of {', '.join(strikes_considered.index)}\"))\n",
    "        \n",
    "        # Compute and save state for the required computations.\n",
    "        BSMs = {E: BSM(day0.S, int(E), day0.r, day0.T_norm, day0[E]) for E in strikes_considered.index}\n",
    "        deltas = np.sum(np.nan_to_num(list(map(lambda x: x.delta, BSMs.values()))))\n",
    "        longs = day0[strikes_considered.index].sum()\n",
    "        state_prev = Hedger.DeltaState(longs, deltas * day0.S, deltas)\n",
    "        stats = Hedger.HedgingStats(cost_basis=cost_basis)\n",
    "        stats.total_cost += cost_basis * state_prev.short\n",
    "        \n",
    "        # Simulate trading with the provided data and perform hedging.\n",
    "        day1_onwards = df.iloc[1:-1].to_dict(\"index\")\n",
    "        squared_errors = []\n",
    "        for t, row in day1_onwards.items():\n",
    "            BSMs = {E: BSM.make_from_dict(row, E) for E in strikes_considered.index}\n",
    "            longs = sum(map(lambda x: x.C_obs, BSMs.values()))\n",
    "            state = Hedger.DeltaState(longs, state_prev.delta * df.iloc[t].S, state_prev.delta)\n",
    "            dlong = state.long - state_prev.long\n",
    "            dshort = state.short - state_prev.short\n",
    "            squared_errors.append((dlong - dshort)**2)\n",
    "            # Rehedge?\n",
    "            if t % schedule == 0:\n",
    "                deltas = np.sum(np.nan_to_num(list(map(lambda x: x.delta, BSMs.values()))))\n",
    "                state.short = deltas * df.iloc[t].S\n",
    "                state.delta = deltas\n",
    "                stats.total_cost += abs(cost_basis * (state_prev.delta - state.delta) * df.iloc[t].S)\n",
    "            state_prev = state\n",
    "                \n",
    "        stats.mse = np.mean(squared_errors)\n",
    "        return stats\n",
    "        \n",
    "    def delta_vega_hedge_single(self, data, schedule=2, sheet_name=\"\"):\n",
    "        df = data.get_df(sheet_name=sheet_name)\n",
    "        n_options_considered = 2\n",
    "        \n",
    "        # We consider at-the-money options.\n",
    "        day0 = df.iloc[0]\n",
    "        strikes = day0.dropna().filter(regex=r\"\\d+\").index\n",
    "        option_value_ser = pd.Series(data=strikes, index=strikes, dtype=int).apply(lambda E: abs(day0.S - E))\n",
    "        Es = option_value_ser.iloc[np.argsort(option_value_ser)[:n_options_considered]]\n",
    "        E = Es.index[0]\n",
    "        print(f\"[{type(self).__name__}] Info: Considering a position in a call with a strike price of {E}\")\n",
    "        print(E)"
   ]
  },
  {
   "cell_type": "code",
   "execution_count": 129,
   "metadata": {},
   "outputs": [
    {
     "name": "stdout",
     "output_type": "stream",
     "text": [
      "[OptionsData] Warning: sheet name not specified; proceeding with 'isx15012010C'\n",
      "[Hedger] Info: Considering a position in call(s) with strike price(s) of 500, 480\n"
     ]
    },
    {
     "data": {
      "text/plain": [
       "[Hedger.HedgingStats]: Assuming a cost basis of 1.00%, mean-squared error of hedging was 3.65, and the total costs were $290.36."
      ]
     },
     "execution_count": 129,
     "metadata": {},
     "output_type": "execute_result"
    }
   ],
   "source": [
    "h = Hedger()\n",
    "h.delta_hedge(data, portfolio_size=2)"
   ]
  },
  {
   "cell_type": "code",
   "execution_count": 63,
   "metadata": {},
   "outputs": [
    {
     "name": "stdout",
     "output_type": "stream",
     "text": [
      "[OptionsData] Warning: sheet name not specified; proceeding with 'isx15012010C'\n"
     ]
    },
    {
     "name": "stderr",
     "output_type": "stream",
     "text": [
      "/opt/conda/lib/python3.8/site-packages/pyfinance/options.py:242: RuntimeWarning: divide by zero encountered in double_scalars\n",
      "  vol = vol + diff / opt.vega()\n",
      "/opt/conda/lib/python3.8/site-packages/pyfinance/options.py:149: RuntimeWarning: invalid value encountered in double_scalars\n",
      "  self.d1 = (\n"
     ]
    },
    {
     "name": "stdout",
     "output_type": "stream",
     "text": [
      "Took 4059.20 ms\n"
     ]
    }
   ],
   "source": [
    "E = 500\n",
    "schedule = 2\n",
    "df = data.get_df(E).dropna()\n",
    "\n",
    "import time\n",
    "\n",
    "t0 = time.time()\n",
    "# t = 0:\n",
    "rows_iterator = df.iterrows()\n",
    "_, row = next(rows_iterator)\n",
    "bsm_prev = BSM.make_from_series(row, E)\n",
    "long_prev = bsm_prev.C_obs\n",
    "delta_factor = bsm_prev.delta\n",
    "short_prev = delta_factor * bsm_prev.S\n",
    "\n",
    "# 0 < t < T:\n",
    "mse = 0.0\n",
    "for t, row in rows_iterator:\n",
    "    bsm = BSM.make_from_series(row, E)\n",
    "    long = bsm.C_obs\n",
    "    dlong = long - long_prev\n",
    "    short = delta_factor * bsm.S\n",
    "    dshort = short - short_prev\n",
    "    mse += (dlong - dshort)**2\n",
    "    long_prev = long\n",
    "    bsm_prev = bsm\n",
    "    # Rehedge?\n",
    "    if t % schedule == 0:\n",
    "        delta_factor = bsm.delta\n",
    "        short_prev = delta_factor * bsm.S\n",
    "    else:\n",
    "        short_prev = short\n",
    "\n",
    "mse /= df.shape[0]\n",
    "\n",
    "t1 = time.time()\n",
    "print(f\"Took {(t1 - t0)*1000:.2f} ms\")"
   ]
  },
  {
   "cell_type": "code",
   "execution_count": 64,
   "metadata": {},
   "outputs": [
    {
     "name": "stdout",
     "output_type": "stream",
     "text": [
      "Single option delta hedging mse=nan\n"
     ]
    }
   ],
   "source": [
    "print(f\"Single option delta hedging {mse=:.2f}\")"
   ]
  },
  {
   "cell_type": "code",
   "execution_count": null,
   "metadata": {},
   "outputs": [],
   "source": []
  }
 ],
 "metadata": {
  "kernelspec": {
   "display_name": "Python 3",
   "language": "python",
   "name": "python3"
  },
  "language_info": {
   "codemirror_mode": {
    "name": "ipython",
    "version": 3
   },
   "file_extension": ".py",
   "mimetype": "text/x-python",
   "name": "python",
   "nbconvert_exporter": "python",
   "pygments_lexer": "ipython3",
   "version": "3.8.6"
  },
  "varInspector": {
   "cols": {
    "lenName": 16,
    "lenType": 16,
    "lenVar": 40
   },
   "kernels_config": {
    "python": {
     "delete_cmd_postfix": "",
     "delete_cmd_prefix": "del ",
     "library": "var_list.py",
     "varRefreshCmd": "print(var_dic_list())"
    },
    "r": {
     "delete_cmd_postfix": ") ",
     "delete_cmd_prefix": "rm(",
     "library": "var_list.r",
     "varRefreshCmd": "cat(var_dic_list()) "
    }
   },
   "types_to_exclude": [
    "module",
    "function",
    "builtin_function_or_method",
    "instance",
    "_Feature"
   ],
   "window_display": false
  }
 },
 "nbformat": 4,
 "nbformat_minor": 4
}
