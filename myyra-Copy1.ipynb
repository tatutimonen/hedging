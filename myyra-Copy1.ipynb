{
 "cells": [
  {
   "cell_type": "code",
   "execution_count": 407,
   "metadata": {},
   "outputs": [],
   "source": [
    "import os\n",
    "import math\n",
    "import re\n",
    "import functools\n",
    "import itertools\n",
    "from abc import ABC\n",
    "from dataclasses import dataclass, field\n",
    "import pandas as pd\n",
    "pd.set_option(\"display.max_columns\", None)\n",
    "import numpy as np\n",
    "from scipy.stats import norm\n",
    "from scipy.optimize import minimize\n",
    "from scipy.optimize import minimize_scalar\n",
    "import matplotlib.pyplot as plt"
   ]
  },
  {
   "cell_type": "code",
   "execution_count": 57,
   "metadata": {},
   "outputs": [],
   "source": [
    "from pyfinance.options import BSM as pyfinance_BSM"
   ]
  },
  {
   "cell_type": "markdown",
   "metadata": {},
   "source": [
    "Add any general utility functions as static member functions to this class. They can be called as `Util.fn`."
   ]
  },
  {
   "cell_type": "code",
   "execution_count": 2,
   "metadata": {},
   "outputs": [],
   "source": [
    "class Util:\n",
    "    def __init__(self):\n",
    "        raise TypeError(\"Non-instantiable class\")\n",
    "        \n",
    "    def __new__(self, *args, **kwargs):\n",
    "        raise TypeError(\"Non-instantiable class\")\n",
    "        \n",
    "    @staticmethod\n",
    "    def make_regex_group_disjunction(coll):\n",
    "        return \"|\".join(map(lambda x: f\"({str(x)})\", coll))"
   ]
  },
  {
   "cell_type": "code",
   "execution_count": 3,
   "metadata": {},
   "outputs": [],
   "source": [
    "class OptionsData:\n",
    "    data_dir = \"data\"\n",
    "    default_filename = \"isx2010C.xls\"\n",
    "    \n",
    "    def __init__(self, filename=default_filename, clean=True):\n",
    "        filepath = os.path.join(self.data_dir, filename)\n",
    "        if not os.path.isfile(filepath):\n",
    "            faulty_filepath = filepath\n",
    "            filepath = os.path.join(self.data_dir, self.default_filename)\n",
    "            print(f\"Warning: could not find {faulty_filepath!r}; proceeding with {filepath!r}\")\n",
    "        self.__sheet_df_dict = pd.read_excel(filepath, sheet_name=None)\n",
    "        if clean:\n",
    "            for key, val in self.__sheet_df_dict.items():\n",
    "                self.__sheet_df_dict[key] = self.__clean_df(val)\n",
    "                \n",
    "    def __get_item__(self, key):\n",
    "        return self.__sheet_df_dict[key]\n",
    "    \n",
    "    def get_sheet_df_dict(self):\n",
    "        return self.__sheet_df_dict\n",
    "    \n",
    "    def get_df(self, E=None, sheet_name=\"\"):\n",
    "        if not sheet_name:\n",
    "            sheet_name = list(self.__sheet_df_dict.keys())[0]\n",
    "            print(f\"Warning: sheet name not specified; proceeding with {sheet_name!r}\")\n",
    "        df = self.__sheet_df_dict[sheet_name]\n",
    "        common = [\"T\", \"T_norm\", \"S\", \"r\"]\n",
    "        if not E:\n",
    "            return df[[*common, *filter(lambda x: re.match(r\"[0-9]+\", x), df.columns)]]\n",
    "        strikes = E if type(E) is list or type(E) is tuple else [E]\n",
    "        cols = [*common, *map(lambda x: str(int(x)), strikes)]\n",
    "        return df[cols]\n",
    "    \n",
    "    def __clean_df(self, df):\n",
    "        # Discard rows where no options data is available.\n",
    "        df = df.dropna(how=\"all\")\n",
    "        # Rename the columns according to the following convention:\n",
    "        #  T = Time to Maturity\n",
    "        #  S = Price of the Underlying\n",
    "        #  r = Risk-Free Interest Rate\n",
    "        df = df.rename(lambda x: self.__rename_df_cols(str(x), df), axis=\"columns\")\n",
    "        # Adjust the interest rate properly.\n",
    "        df[\"r\"] = df[\"r\"] / 100\n",
    "        # Add new column with annual-normalized T (252 = no. trading days in a year).\n",
    "        df[\"T_norm\"] = df[\"T\"] / 252\n",
    "        # Re-arrange the columns.\n",
    "        common = [\"S\", \"r\", \"T\", \"T_norm\"]\n",
    "        cols = [*common, *filter(lambda x: re.search(\"[0-9]+\", x), df.columns.astype(str))]\n",
    "        return df[cols]\n",
    "    \n",
    "    def __rename_df_cols(self, col_name, df):\n",
    "        ncol = len(df.columns)\n",
    "        # Time to maturity | (price of the underlying | risk-free rate).\n",
    "        regex = r\"(?P<T>[0-9]+(-[0-9]{2}){2} ([0-9]{2}:){2}[0-9]{2})|(?P<Sr>Unnamed: (?P<idx>[0-9]+))\"\n",
    "        match = re.match(regex, col_name)\n",
    "        if not match:\n",
    "            return col_name\n",
    "        if match[\"T\"]:\n",
    "            return \"T\"\n",
    "        elif match[\"Sr\"]:\n",
    "            col_idx = int(match[\"idx\"])\n",
    "            # Third last depicts the price of the underlying...\n",
    "            if col_idx == ncol - 3:\n",
    "                return \"S\"\n",
    "            # ...and the second last the risk free rate.\n",
    "            elif col_idx == ncol - 2:\n",
    "                return \"r\"\n"
   ]
  },
  {
   "cell_type": "code",
   "execution_count": 4,
   "metadata": {},
   "outputs": [
    {
     "name": "stdout",
     "output_type": "stream",
     "text": [
      "Warning: sheet name not specified; proceeding with 'isx15012010C'\n"
     ]
    },
    {
     "data": {
      "text/html": [
       "<div>\n",
       "<style scoped>\n",
       "    .dataframe tbody tr th:only-of-type {\n",
       "        vertical-align: middle;\n",
       "    }\n",
       "\n",
       "    .dataframe tbody tr th {\n",
       "        vertical-align: top;\n",
       "    }\n",
       "\n",
       "    .dataframe thead th {\n",
       "        text-align: right;\n",
       "    }\n",
       "</style>\n",
       "<table border=\"1\" class=\"dataframe\">\n",
       "  <thead>\n",
       "    <tr style=\"text-align: right;\">\n",
       "      <th></th>\n",
       "      <th>T</th>\n",
       "      <th>T_norm</th>\n",
       "      <th>S</th>\n",
       "      <th>r</th>\n",
       "      <th>340</th>\n",
       "      <th>345</th>\n",
       "      <th>350</th>\n",
       "      <th>355</th>\n",
       "      <th>360</th>\n",
       "      <th>365</th>\n",
       "      <th>370</th>\n",
       "      <th>375</th>\n",
       "      <th>380</th>\n",
       "      <th>385</th>\n",
       "      <th>390</th>\n",
       "      <th>395</th>\n",
       "      <th>400</th>\n",
       "      <th>405</th>\n",
       "      <th>410</th>\n",
       "      <th>415</th>\n",
       "      <th>420</th>\n",
       "      <th>425</th>\n",
       "      <th>430</th>\n",
       "      <th>435</th>\n",
       "      <th>440</th>\n",
       "      <th>445</th>\n",
       "      <th>450</th>\n",
       "      <th>455</th>\n",
       "      <th>460</th>\n",
       "      <th>465</th>\n",
       "      <th>470</th>\n",
       "      <th>475</th>\n",
       "      <th>480</th>\n",
       "      <th>485</th>\n",
       "      <th>490</th>\n",
       "      <th>495</th>\n",
       "      <th>500</th>\n",
       "      <th>505</th>\n",
       "      <th>510</th>\n",
       "      <th>515</th>\n",
       "      <th>520</th>\n",
       "      <th>525</th>\n",
       "      <th>530</th>\n",
       "      <th>535</th>\n",
       "      <th>540</th>\n",
       "      <th>545</th>\n",
       "      <th>550</th>\n",
       "      <th>555</th>\n",
       "      <th>560</th>\n",
       "      <th>565</th>\n",
       "      <th>570</th>\n",
       "    </tr>\n",
       "  </thead>\n",
       "  <tbody>\n",
       "    <tr>\n",
       "      <th>81</th>\n",
       "      <td>5</td>\n",
       "      <td>0.019841</td>\n",
       "      <td>524.29</td>\n",
       "      <td>0.0006</td>\n",
       "      <td>185.50</td>\n",
       "      <td>180.50</td>\n",
       "      <td>175.50</td>\n",
       "      <td>170.50</td>\n",
       "      <td>165.50</td>\n",
       "      <td>160.50</td>\n",
       "      <td>155.50</td>\n",
       "      <td>150.50</td>\n",
       "      <td>145.50</td>\n",
       "      <td>140.50</td>\n",
       "      <td>135.50</td>\n",
       "      <td>130.50</td>\n",
       "      <td>125.50</td>\n",
       "      <td>120.50</td>\n",
       "      <td>115.50</td>\n",
       "      <td>110.50</td>\n",
       "      <td>105.50</td>\n",
       "      <td>100.50</td>\n",
       "      <td>95.50</td>\n",
       "      <td>90.50</td>\n",
       "      <td>85.40</td>\n",
       "      <td>80.40</td>\n",
       "      <td>75.40</td>\n",
       "      <td>70.40</td>\n",
       "      <td>65.4</td>\n",
       "      <td>60.40</td>\n",
       "      <td>55.40</td>\n",
       "      <td>50.45</td>\n",
       "      <td>45.45</td>\n",
       "      <td>40.45</td>\n",
       "      <td>35.45</td>\n",
       "      <td>30.50</td>\n",
       "      <td>25.55</td>\n",
       "      <td>20.00</td>\n",
       "      <td>15.70</td>\n",
       "      <td>11.0</td>\n",
       "      <td>6.8</td>\n",
       "      <td>3.00</td>\n",
       "      <td>1.00</td>\n",
       "      <td>0.30</td>\n",
       "      <td>0.10</td>\n",
       "      <td>0.07</td>\n",
       "      <td>0.05</td>\n",
       "      <td>0.05</td>\n",
       "      <td>0.05</td>\n",
       "      <td>0.05</td>\n",
       "      <td>0.05</td>\n",
       "    </tr>\n",
       "    <tr>\n",
       "      <th>82</th>\n",
       "      <td>4</td>\n",
       "      <td>0.015873</td>\n",
       "      <td>527.93</td>\n",
       "      <td>0.0006</td>\n",
       "      <td>188.55</td>\n",
       "      <td>183.55</td>\n",
       "      <td>178.55</td>\n",
       "      <td>173.55</td>\n",
       "      <td>168.55</td>\n",
       "      <td>163.55</td>\n",
       "      <td>158.55</td>\n",
       "      <td>153.55</td>\n",
       "      <td>148.55</td>\n",
       "      <td>143.55</td>\n",
       "      <td>138.55</td>\n",
       "      <td>133.55</td>\n",
       "      <td>128.55</td>\n",
       "      <td>123.55</td>\n",
       "      <td>118.55</td>\n",
       "      <td>113.55</td>\n",
       "      <td>108.55</td>\n",
       "      <td>103.55</td>\n",
       "      <td>98.55</td>\n",
       "      <td>93.55</td>\n",
       "      <td>88.55</td>\n",
       "      <td>83.55</td>\n",
       "      <td>78.55</td>\n",
       "      <td>73.55</td>\n",
       "      <td>68.7</td>\n",
       "      <td>63.55</td>\n",
       "      <td>58.55</td>\n",
       "      <td>53.55</td>\n",
       "      <td>48.60</td>\n",
       "      <td>43.65</td>\n",
       "      <td>38.65</td>\n",
       "      <td>33.65</td>\n",
       "      <td>28.60</td>\n",
       "      <td>23.65</td>\n",
       "      <td>18.65</td>\n",
       "      <td>14.0</td>\n",
       "      <td>9.0</td>\n",
       "      <td>4.50</td>\n",
       "      <td>1.60</td>\n",
       "      <td>0.40</td>\n",
       "      <td>0.15</td>\n",
       "      <td>0.07</td>\n",
       "      <td>0.05</td>\n",
       "      <td>0.05</td>\n",
       "      <td>0.05</td>\n",
       "      <td>0.15</td>\n",
       "      <td>0.15</td>\n",
       "    </tr>\n",
       "    <tr>\n",
       "      <th>83</th>\n",
       "      <td>3</td>\n",
       "      <td>0.011905</td>\n",
       "      <td>529.59</td>\n",
       "      <td>0.0006</td>\n",
       "      <td>190.10</td>\n",
       "      <td>185.10</td>\n",
       "      <td>180.10</td>\n",
       "      <td>175.10</td>\n",
       "      <td>170.10</td>\n",
       "      <td>165.10</td>\n",
       "      <td>160.10</td>\n",
       "      <td>155.10</td>\n",
       "      <td>150.10</td>\n",
       "      <td>145.10</td>\n",
       "      <td>140.10</td>\n",
       "      <td>135.10</td>\n",
       "      <td>130.10</td>\n",
       "      <td>125.10</td>\n",
       "      <td>120.10</td>\n",
       "      <td>115.10</td>\n",
       "      <td>110.10</td>\n",
       "      <td>105.10</td>\n",
       "      <td>100.10</td>\n",
       "      <td>95.10</td>\n",
       "      <td>90.10</td>\n",
       "      <td>85.10</td>\n",
       "      <td>80.10</td>\n",
       "      <td>75.10</td>\n",
       "      <td>70.1</td>\n",
       "      <td>65.10</td>\n",
       "      <td>60.10</td>\n",
       "      <td>55.10</td>\n",
       "      <td>50.30</td>\n",
       "      <td>45.10</td>\n",
       "      <td>40.10</td>\n",
       "      <td>35.10</td>\n",
       "      <td>30.80</td>\n",
       "      <td>26.00</td>\n",
       "      <td>20.00</td>\n",
       "      <td>15.7</td>\n",
       "      <td>10.1</td>\n",
       "      <td>5.65</td>\n",
       "      <td>1.95</td>\n",
       "      <td>0.40</td>\n",
       "      <td>0.05</td>\n",
       "      <td>0.05</td>\n",
       "      <td>0.02</td>\n",
       "      <td>0.05</td>\n",
       "      <td>0.05</td>\n",
       "      <td>0.15</td>\n",
       "      <td>0.05</td>\n",
       "    </tr>\n",
       "    <tr>\n",
       "      <th>84</th>\n",
       "      <td>2</td>\n",
       "      <td>0.007937</td>\n",
       "      <td>524.11</td>\n",
       "      <td>0.0005</td>\n",
       "      <td>184.10</td>\n",
       "      <td>179.10</td>\n",
       "      <td>174.10</td>\n",
       "      <td>169.10</td>\n",
       "      <td>164.10</td>\n",
       "      <td>159.10</td>\n",
       "      <td>154.10</td>\n",
       "      <td>149.10</td>\n",
       "      <td>144.10</td>\n",
       "      <td>139.10</td>\n",
       "      <td>134.10</td>\n",
       "      <td>129.10</td>\n",
       "      <td>124.10</td>\n",
       "      <td>119.10</td>\n",
       "      <td>114.10</td>\n",
       "      <td>109.10</td>\n",
       "      <td>104.10</td>\n",
       "      <td>99.10</td>\n",
       "      <td>94.10</td>\n",
       "      <td>89.10</td>\n",
       "      <td>84.10</td>\n",
       "      <td>79.10</td>\n",
       "      <td>74.10</td>\n",
       "      <td>69.10</td>\n",
       "      <td>63.1</td>\n",
       "      <td>59.10</td>\n",
       "      <td>54.10</td>\n",
       "      <td>49.10</td>\n",
       "      <td>45.50</td>\n",
       "      <td>41.25</td>\n",
       "      <td>34.58</td>\n",
       "      <td>27.80</td>\n",
       "      <td>24.00</td>\n",
       "      <td>19.40</td>\n",
       "      <td>14.10</td>\n",
       "      <td>9.1</td>\n",
       "      <td>4.1</td>\n",
       "      <td>0.05</td>\n",
       "      <td>0.05</td>\n",
       "      <td>0.04</td>\n",
       "      <td>0.05</td>\n",
       "      <td>0.05</td>\n",
       "      <td>0.01</td>\n",
       "      <td>0.05</td>\n",
       "      <td>0.05</td>\n",
       "      <td>0.05</td>\n",
       "      <td>0.05</td>\n",
       "    </tr>\n",
       "    <tr>\n",
       "      <th>85</th>\n",
       "      <td>1</td>\n",
       "      <td>0.003968</td>\n",
       "      <td>NaN</td>\n",
       "      <td>NaN</td>\n",
       "      <td>NaN</td>\n",
       "      <td>NaN</td>\n",
       "      <td>NaN</td>\n",
       "      <td>NaN</td>\n",
       "      <td>NaN</td>\n",
       "      <td>NaN</td>\n",
       "      <td>NaN</td>\n",
       "      <td>NaN</td>\n",
       "      <td>NaN</td>\n",
       "      <td>NaN</td>\n",
       "      <td>NaN</td>\n",
       "      <td>NaN</td>\n",
       "      <td>NaN</td>\n",
       "      <td>NaN</td>\n",
       "      <td>NaN</td>\n",
       "      <td>NaN</td>\n",
       "      <td>NaN</td>\n",
       "      <td>NaN</td>\n",
       "      <td>NaN</td>\n",
       "      <td>NaN</td>\n",
       "      <td>NaN</td>\n",
       "      <td>NaN</td>\n",
       "      <td>NaN</td>\n",
       "      <td>NaN</td>\n",
       "      <td>NaN</td>\n",
       "      <td>NaN</td>\n",
       "      <td>NaN</td>\n",
       "      <td>NaN</td>\n",
       "      <td>NaN</td>\n",
       "      <td>NaN</td>\n",
       "      <td>NaN</td>\n",
       "      <td>NaN</td>\n",
       "      <td>NaN</td>\n",
       "      <td>NaN</td>\n",
       "      <td>NaN</td>\n",
       "      <td>NaN</td>\n",
       "      <td>NaN</td>\n",
       "      <td>NaN</td>\n",
       "      <td>NaN</td>\n",
       "      <td>NaN</td>\n",
       "      <td>NaN</td>\n",
       "      <td>NaN</td>\n",
       "      <td>NaN</td>\n",
       "      <td>NaN</td>\n",
       "      <td>NaN</td>\n",
       "      <td>NaN</td>\n",
       "      <td>NaN</td>\n",
       "    </tr>\n",
       "  </tbody>\n",
       "</table>\n",
       "</div>"
      ],
      "text/plain": [
       "    T    T_norm       S       r     340     345     350     355     360  \\\n",
       "81  5  0.019841  524.29  0.0006  185.50  180.50  175.50  170.50  165.50   \n",
       "82  4  0.015873  527.93  0.0006  188.55  183.55  178.55  173.55  168.55   \n",
       "83  3  0.011905  529.59  0.0006  190.10  185.10  180.10  175.10  170.10   \n",
       "84  2  0.007937  524.11  0.0005  184.10  179.10  174.10  169.10  164.10   \n",
       "85  1  0.003968     NaN     NaN     NaN     NaN     NaN     NaN     NaN   \n",
       "\n",
       "       365     370     375     380     385     390     395     400     405  \\\n",
       "81  160.50  155.50  150.50  145.50  140.50  135.50  130.50  125.50  120.50   \n",
       "82  163.55  158.55  153.55  148.55  143.55  138.55  133.55  128.55  123.55   \n",
       "83  165.10  160.10  155.10  150.10  145.10  140.10  135.10  130.10  125.10   \n",
       "84  159.10  154.10  149.10  144.10  139.10  134.10  129.10  124.10  119.10   \n",
       "85     NaN     NaN     NaN     NaN     NaN     NaN     NaN     NaN     NaN   \n",
       "\n",
       "       410     415     420     425     430    435    440    445    450    455  \\\n",
       "81  115.50  110.50  105.50  100.50   95.50  90.50  85.40  80.40  75.40  70.40   \n",
       "82  118.55  113.55  108.55  103.55   98.55  93.55  88.55  83.55  78.55  73.55   \n",
       "83  120.10  115.10  110.10  105.10  100.10  95.10  90.10  85.10  80.10  75.10   \n",
       "84  114.10  109.10  104.10   99.10   94.10  89.10  84.10  79.10  74.10  69.10   \n",
       "85     NaN     NaN     NaN     NaN     NaN    NaN    NaN    NaN    NaN    NaN   \n",
       "\n",
       "     460    465    470    475    480    485    490    495    500    505  \\\n",
       "81  65.4  60.40  55.40  50.45  45.45  40.45  35.45  30.50  25.55  20.00   \n",
       "82  68.7  63.55  58.55  53.55  48.60  43.65  38.65  33.65  28.60  23.65   \n",
       "83  70.1  65.10  60.10  55.10  50.30  45.10  40.10  35.10  30.80  26.00   \n",
       "84  63.1  59.10  54.10  49.10  45.50  41.25  34.58  27.80  24.00  19.40   \n",
       "85   NaN    NaN    NaN    NaN    NaN    NaN    NaN    NaN    NaN    NaN   \n",
       "\n",
       "      510   515   520   525   530   535   540   545   550   555   560   565  \\\n",
       "81  15.70  11.0   6.8  3.00  1.00  0.30  0.10  0.07  0.05  0.05  0.05  0.05   \n",
       "82  18.65  14.0   9.0  4.50  1.60  0.40  0.15  0.07  0.05  0.05  0.05  0.15   \n",
       "83  20.00  15.7  10.1  5.65  1.95  0.40  0.05  0.05  0.02  0.05  0.05  0.15   \n",
       "84  14.10   9.1   4.1  0.05  0.05  0.04  0.05  0.05  0.01  0.05  0.05  0.05   \n",
       "85    NaN   NaN   NaN   NaN   NaN   NaN   NaN   NaN   NaN   NaN   NaN   NaN   \n",
       "\n",
       "     570  \n",
       "81  0.05  \n",
       "82  0.15  \n",
       "83  0.05  \n",
       "84  0.05  \n",
       "85   NaN  "
      ]
     },
     "execution_count": 4,
     "metadata": {},
     "output_type": "execute_result"
    }
   ],
   "source": [
    "data = OptionsData(\"isx2010C.xls\")\n",
    "data.get_df().tail()"
   ]
  },
  {
   "cell_type": "markdown",
   "metadata": {},
   "source": [
    "A class encapsulating the Black-Scholes-Merton model and related computations, such as Greeks. Can create instances from `pd.Series` objects (as returned by pd.DataFrame.iterrows) via the `BSM.make_from_series` factory method."
   ]
  },
  {
   "cell_type": "code",
   "execution_count": 445,
   "metadata": {},
   "outputs": [],
   "source": [
    "@dataclass(frozen=True)\n",
    "class BSM:\n",
    "    S: float\n",
    "    E: float\n",
    "    r: float\n",
    "    T: float\n",
    "    C_obs: float\n",
    "    sigma: float = 1.0\n",
    "    d1: float = field(init=False)\n",
    "    d2: float = field(init=False)\n",
    "    \n",
    "    def __post_init__(self):\n",
    "        S, E, r, T, C_obs, sigma = self.S, self.E, self.r, self.T, self.C_obs, self.sigma\n",
    "        sigma = kys(kind='call', S0=S, K=E, T=T, r=r, sigma=0.3).implied_vol(C_obs)\n",
    "        object.__setattr__(self, \"sigma\", sigma)\n",
    "        eps = np.finfo(float).eps\n",
    "        d1 = (math.log(S / E) + (r + 0.5 * self.sigma**2) * T) / (sigma * math.sqrt(T) + eps)\n",
    "        \n",
    "        object.__setattr__(self, \"d1\", d1)\n",
    "        d2 = self.d1 - math.sqrt(self.sigma**2 * T)\n",
    "        object.__setattr__(self, \"d2\", d2)\n",
    "        \n",
    "    @staticmethod    \n",
    "    def make_from_dict(d, E):\n",
    "        return BSM(d[\"S\"], int(E), d[\"r\"], d[\"T_norm\"], d[E])\n",
    "    \n",
    "    @staticmethod\n",
    "    def make_from_series(ser, E, sigma=1.0):\n",
    "        ser = ser.filter(regex=Util.make_regex_group_disjunction([\"S\", int(E), \"r\", \"T_norm\"]), axis=\"index\")\n",
    "        assert ser.shape[0] == 4, f\"Error: The series should have an index of form [S, E, r, T_norm], got {ser.index}.\"\n",
    "        S, r, T, C_obs = ser.array\n",
    "        return BSM(S, E, r, T, C_obs, sigma=sigma)\n",
    "    \n",
    "    @functools.cached_property\n",
    "    def delta(self):\n",
    "        return norm.cdf(self.d1)\n",
    "    \n",
    "    @functools.cached_property\n",
    "    def gamma(self):\n",
    "        return norm.pdf(self.d1) / (self.S * self.sigma * math.sqrt(self.T))\n",
    "    \n",
    "    @functools.cached_property\n",
    "    def theta(self):\n",
    "        S, E, r, T, sigma, d1, d2 = self.S, self.E, self.r, self.T, self.sigma, self.d1, self.d2\n",
    "        return -0.5 * S * norm.pdf(d1) * sigma / math.sqrt(T) - r * E * math.exp(-r * T) * norm.cdf(d2)\n",
    "    \n",
    "    @functools.cached_property\n",
    "    def vega(self):\n",
    "        return self.S * math.sqrt(self.T) * norm.pdf(self.d1)\n",
    "    \n",
    "    def __implied_vol_objective(self, sigma0, S, E, r, T, C_obs):\n",
    "        eps = np.finfo(float).eps\n",
    "        d1 = (math.log(S / E) + (r + 0.5 * sigma0**2) * T) / (math.sqrt(sigma0**2 * T) + eps)\n",
    "        d2 = d1 - math.sqrt(sigma0**2 * T)\n",
    "        C = norm.cdf(d1) * S - E * math.exp(-r * T) * norm.cdf(d2)\n",
    "        return 0.5 * (C - C_obs)**2"
   ]
  },
  {
   "cell_type": "code",
   "execution_count": null,
   "metadata": {},
   "outputs": [],
   "source": [
    "minimize_scalar(self.__implied_vol_objective, args=(S, E, r, T, C_obs), bounds=(0,10000000))"
   ]
  },
  {
   "cell_type": "code",
   "execution_count": 446,
   "metadata": {},
   "outputs": [
    {
     "name": "stdout",
     "output_type": "stream",
     "text": [
      "Warning: sheet name not specified; proceeding with 'isx15012010C'\n"
     ]
    },
    {
     "name": "stderr",
     "output_type": "stream",
     "text": [
      "/opt/conda/lib/python3.8/site-packages/pyfinance/options.py:151: RuntimeWarning: overflow encountered in double_scalars\n",
      "  + (self.r + 0.5 * self.sigma ** 2) * self.T\n",
      "/opt/conda/lib/python3.8/site-packages/pyfinance/options.py:242: RuntimeWarning: divide by zero encountered in double_scalars\n",
      "  vol = vol + diff / opt.vega()\n",
      "/opt/conda/lib/python3.8/site-packages/pyfinance/options.py:149: RuntimeWarning: invalid value encountered in double_scalars\n",
      "  self.d1 = (\n",
      "/opt/conda/lib/python3.8/site-packages/pyfinance/options.py:242: RuntimeWarning: overflow encountered in double_scalars\n",
      "  vol = vol + diff / opt.vega()\n"
     ]
    }
   ],
   "source": [
    "test = data.get_df()\n",
    "td = test.to_dict(\"index\")\n",
    "s, d = [], []\n",
    "for t, row in td.items():\n",
    "    #print(f\"Day {t}\")\n",
    "    strikes = list(filter(lambda x: re.match(r\"[0-9]+\", x), row.keys()))\n",
    "    BSMs = {}\n",
    "    for E in strikes:\n",
    "        BSMs[E] = BSM.make_from_dict(row, E)\n",
    "    greeks = pd.DataFrame(index=strikes)\n",
    "    greeks[\"delta\"] = pd.Series([BSMs[E].delta for E in greeks.index], index=greeks.index)\n",
    "    greeks[\"gamma\"] = pd.Series([BSMs[E].gamma for E in greeks.index], index=greeks.index)\n",
    "    greeks[\"vega\"] = pd.Series([BSMs[E].vega for E in greeks.index], index=greeks.index)\n",
    "    s.append(BSMs['480'].S)\n",
    "    d.append(BSMs['480'].delta)\n",
    "    #print(greeks)\n",
    "    #print(\"-\" * 50)"
   ]
  },
  {
   "cell_type": "code",
   "execution_count": 447,
   "metadata": {},
   "outputs": [
    {
     "data": {
      "text/plain": [
       "<matplotlib.collections.PathCollection at 0x7faec6f21b80>"
      ]
     },
     "execution_count": 447,
     "metadata": {},
     "output_type": "execute_result"
    },
    {
     "data": {
      "image/png": "[encoded data removed]",
      "text/plain": [
       "<Figure size 432x288 with 1 Axes>"
      ]
     },
     "metadata": {
      "needs_background": "light"
     },
     "output_type": "display_data"
    }
   ],
   "source": [
    "plt.scatter(s, d)"
   ]
  },
  {
   "cell_type": "code",
   "execution_count": null,
   "metadata": {},
   "outputs": [],
   "source": []
  },
  {
   "cell_type": "code",
   "execution_count": 94,
   "metadata": {},
   "outputs": [
    {
     "data": {
      "text/plain": [
       "[1.0,\n",
       " 1.0,\n",
       " 1.0,\n",
       " 1.0,\n",
       " 1.0,\n",
       " 1.0,\n",
       " 1.0,\n",
       " 1.0,\n",
       " 1.0,\n",
       " 1.0,\n",
       " 1.0,\n",
       " 1.0,\n",
       " 1.0,\n",
       " 1.0,\n",
       " 1.0,\n",
       " 0.9999999999999999,\n",
       " 1.0,\n",
       " 0.6056970700289867,\n",
       " 0.5971883867518286,\n",
       " 0.9999999999440673,\n",
       " 0.603462849672082,\n",
       " 0.6215490824585467,\n",
       " 0.9999999999999899,\n",
       " 0.6207524330459372,\n",
       " 0.9999999999999982,\n",
       " 1.0,\n",
       " 1.0,\n",
       " 1.0,\n",
       " 1.0,\n",
       " 1.0,\n",
       " 1.0,\n",
       " 1.0,\n",
       " 1.0,\n",
       " 1.0,\n",
       " 1.0,\n",
       " 0.614388985649172,\n",
       " 0.6095872795403428,\n",
       " 0.5823031656929265,\n",
       " 0.9999999999537111,\n",
       " 0.6004944652621274,\n",
       " 0.5343126500756026,\n",
       " 0.5257578961537376,\n",
       " 0.5200975489179028,\n",
       " 0.5904167421985635,\n",
       " 0.6081005731144793,\n",
       " 0.5337183823318651,\n",
       " 0.5385053340586665,\n",
       " 0.522011637630821,\n",
       " 0.5220203284479177,\n",
       " 0.6117000071421086,\n",
       " 0.5927911598748706,\n",
       " 0.5303734490604753,\n",
       " 0.5438588980912495,\n",
       " 0.5879908461086133,\n",
       " 0.5641735707715904,\n",
       " 0.5874322192303162,\n",
       " 0.9999999999998542,\n",
       " 0.9999999994339409,\n",
       " 0.6053782275391917,\n",
       " 0.5800649043737296,\n",
       " 0.5642592433012528,\n",
       " 0.6131761264365074,\n",
       " 0.6234314324667077,\n",
       " 1.0,\n",
       " 0.9999999999999332,\n",
       " 0.6175731172630765,\n",
       " 0.5979023991266015,\n",
       " 0.5950132848887009,\n",
       " 0.5341970250875623,\n",
       " 0.5340096683089541,\n",
       " 0.5140065826269833,\n",
       " 0.5235486485336693,\n",
       " 0.5210697049971428,\n",
       " 0.6323943512351993,\n",
       " 0.6323793253708366,\n",
       " 0.41606569617371897,\n",
       " 0.3476488094345142,\n",
       " 0.36895673567664755,\n",
       " 4.658389352019319e-12,\n",
       " 2.8296275683834595e-19,\n",
       " 8.462412423230334e-27,\n",
       " 2.578161190130465e-09,\n",
       " 1.3758473066299909e-33,\n",
       " 2.569366609111813e-63,\n",
       " 4.698187555621015e-19,\n",
       " nan]"
      ]
     },
     "execution_count": 94,
     "metadata": {},
     "output_type": "execute_result"
    }
   ],
   "source": [
    "d"
   ]
  },
  {
   "cell_type": "code",
   "execution_count": 7,
   "metadata": {},
   "outputs": [
    {
     "name": "stdout",
     "output_type": "stream",
     "text": [
      "Warning: sheet name not specified; proceeding with 'isx15012010C'\n",
      "Took 163.38 ms\n"
     ]
    }
   ],
   "source": [
    "E = 340\n",
    "schedule = 2\n",
    "df = data.get_df(E).dropna()\n",
    "\n",
    "import time\n",
    "\n",
    "t0 = time.time()\n",
    "# t = 0:\n",
    "rows_iterator = df.iterrows()\n",
    "_, row = next(rows_iterator)\n",
    "bsm_prev = BSM.make_from_series(row, E)\n",
    "long_prev = bsm_prev.C_obs\n",
    "delta_factor = bsm_prev.delta\n",
    "short_prev = delta_factor * bsm_prev.S\n",
    "\n",
    "# 0 < t < T:\n",
    "mse = 0.0\n",
    "for t, row in rows_iterator:\n",
    "    bsm = BSM.make_from_series(row, E)\n",
    "    long = bsm.C_obs\n",
    "    dlong = long - long_prev\n",
    "    short = delta_factor * bsm.S\n",
    "    dshort = short - short_prev\n",
    "    mse += (dlong - dshort)**2\n",
    "    long_prev = long\n",
    "    bsm_prev = bsm\n",
    "    # Rehedge?\n",
    "    if t % schedule == 0:\n",
    "        delta_factor = bsm.delta\n",
    "        short_prev = delta_factor * bsm.S\n",
    "    else:\n",
    "        short_prev = short\n",
    "\n",
    "mse /= df.shape[0]\n",
    "\n",
    "t1 = time.time()\n",
    "print(f\"Took {(t1 - t0)*1000:.2f} ms\")"
   ]
  },
  {
   "cell_type": "code",
   "execution_count": 8,
   "metadata": {},
   "outputs": [
    {
     "name": "stdout",
     "output_type": "stream",
     "text": [
      "Single option delta hedging mse=21.88\n"
     ]
    }
   ],
   "source": [
    "print(f\"Single option delta hedging {mse=:.2f}\")"
   ]
  },
  {
   "cell_type": "code",
   "execution_count": 23,
   "metadata": {},
   "outputs": [],
   "source": [
    "from pyfinance.options import BSM as kys\n"
   ]
  },
  {
   "cell_type": "code",
   "execution_count": 431,
   "metadata": {},
   "outputs": [],
   "source": [
    "S0 = 529.59\n",
    "E=480\n",
    "T=0.011904761904761904\n",
    "r=0.0006\n",
    "sigma=0.3\n",
    "Cobs = 50.3"
   ]
  },
  {
   "cell_type": "code",
   "execution_count": 432,
   "metadata": {},
   "outputs": [
    {
     "data": {
      "text/plain": [
       "0.5610319461548999"
      ]
     },
     "execution_count": 432,
     "metadata": {},
     "output_type": "execute_result"
    }
   ],
   "source": [
    "implied_vol = kys(kind='call', S0=S0, K=E, T=T, r=r, sigma=0.3).implied_vol(Cobs)\n",
    "implied_vol"
   ]
  },
  {
   "cell_type": "code",
   "execution_count": 441,
   "metadata": {},
   "outputs": [
    {
     "data": {
      "text/plain": [
       "0.9491694788700725"
      ]
     },
     "execution_count": 441,
     "metadata": {},
     "output_type": "execute_result"
    }
   ],
   "source": [
    "kys(kind='call', S0=S0, K=E, T=T, r=r, sigma=implied_vol).delta()"
   ]
  },
  {
   "cell_type": "code",
   "execution_count": 434,
   "metadata": {},
   "outputs": [
    {
     "data": {
      "text/plain": [
       "50.300000391994956"
      ]
     },
     "execution_count": 434,
     "metadata": {},
     "output_type": "execute_result"
    }
   ],
   "source": [
    "a.value()"
   ]
  },
  {
   "cell_type": "code",
   "execution_count": 435,
   "metadata": {},
   "outputs": [
    {
     "data": {
      "text/plain": [
       "0.9491694788700725"
      ]
     },
     "execution_count": 435,
     "metadata": {},
     "output_type": "execute_result"
    }
   ],
   "source": [
    "a.delta()"
   ]
  },
  {
   "cell_type": "code",
   "execution_count": 436,
   "metadata": {},
   "outputs": [],
   "source": [
    "bsm_a = BSM(S0, int(E), r, T, Cobs)"
   ]
  },
  {
   "cell_type": "code",
   "execution_count": 440,
   "metadata": {},
   "outputs": [
    {
     "data": {
      "text/plain": [
       "     fun: 2.762701264977487e-20\n",
       "    nfev: 20\n",
       "     nit: 16\n",
       " success: True\n",
       "       x: -0.5610318812749725"
      ]
     },
     "execution_count": 440,
     "metadata": {},
     "output_type": "execute_result"
    }
   ],
   "source": [
    "bsm_a.minim()"
   ]
  },
  {
   "cell_type": "code",
   "execution_count": 438,
   "metadata": {},
   "outputs": [
    {
     "data": {
      "text/plain": [
       "0.0"
      ]
     },
     "execution_count": 438,
     "metadata": {},
     "output_type": "execute_result"
    }
   ],
   "source": [
    "bsm_a.delta"
   ]
  },
  {
   "cell_type": "code",
   "execution_count": 439,
   "metadata": {},
   "outputs": [
    {
     "data": {
      "text/plain": [
       "-0.010000000000000009"
      ]
     },
     "execution_count": 439,
     "metadata": {},
     "output_type": "execute_result"
    }
   ],
   "source": [
    "bsm_a.sigma"
   ]
  },
  {
   "cell_type": "code",
   "execution_count": 381,
   "metadata": {},
   "outputs": [
    {
     "data": {
      "text/plain": [
       "0.5610319461548999"
      ]
     },
     "execution_count": 381,
     "metadata": {},
     "output_type": "execute_result"
    }
   ],
   "source": [
    "a.sigma"
   ]
  },
  {
   "cell_type": "code",
   "execution_count": 371,
   "metadata": {},
   "outputs": [
    {
     "data": {
      "text/plain": [
       "{'T': 3,\n",
       " 'T_norm': 0.011904761904761904,\n",
       " 'S': 529.59,\n",
       " 'r': 0.0006,\n",
       " '340': 190.1,\n",
       " '345': 185.1,\n",
       " '350': 180.1,\n",
       " '355': 175.1,\n",
       " '360': 170.1,\n",
       " '365': 165.1,\n",
       " '370': 160.1,\n",
       " '375': 155.1,\n",
       " '380': 150.1,\n",
       " '385': 145.1,\n",
       " '390': 140.1,\n",
       " '395': 135.1,\n",
       " '400': 130.1,\n",
       " '405': 125.1,\n",
       " '410': 120.1,\n",
       " '415': 115.1,\n",
       " '420': 110.1,\n",
       " '425': 105.1,\n",
       " '430': 100.1,\n",
       " '435': 95.1,\n",
       " '440': 90.1,\n",
       " '445': 85.1,\n",
       " '450': 80.1,\n",
       " '455': 75.1,\n",
       " '460': 70.1,\n",
       " '465': 65.1,\n",
       " '470': 60.1,\n",
       " '475': 55.1,\n",
       " '480': 50.3,\n",
       " '485': 45.1,\n",
       " '490': 40.1,\n",
       " '495': 35.1,\n",
       " '500': 30.8,\n",
       " '505': 26.0,\n",
       " '510': 20.0,\n",
       " '515': 15.7,\n",
       " '520': 10.1,\n",
       " '525': 5.65,\n",
       " '530': 1.95,\n",
       " '535': 0.4,\n",
       " '540': 0.05,\n",
       " '545': 0.05,\n",
       " '550': 0.02,\n",
       " '555': 0.05,\n",
       " '560': 0.05,\n",
       " '565': 0.15,\n",
       " '570': 0.05}"
      ]
     },
     "execution_count": 371,
     "metadata": {},
     "output_type": "execute_result"
    }
   ],
   "source": [
    "td[83]"
   ]
  },
  {
   "cell_type": "code",
   "execution_count": 17,
   "metadata": {},
   "outputs": [
    {
     "data": {
      "text/plain": [
       "{'T': 40,\n",
       " 'T_norm': 0.15873015873015872,\n",
       " 'S': 515.8,\n",
       " 'r': 0.0004,\n",
       " '340': 176.05,\n",
       " '345': 171.05,\n",
       " '350': 166.05,\n",
       " '355': 161.05,\n",
       " '360': 156.05,\n",
       " '365': 151.05,\n",
       " '370': 146.05,\n",
       " '375': 141.0,\n",
       " '380': 136.0,\n",
       " '385': 131.1,\n",
       " '390': 126.05,\n",
       " '395': 121.0,\n",
       " '400': 116.0,\n",
       " '405': 111.05,\n",
       " '410': 106.2,\n",
       " '415': 101.2,\n",
       " '420': 96.2,\n",
       " '425': 91.3,\n",
       " '430': 86.4,\n",
       " '435': 81.55,\n",
       " '440': 76.65,\n",
       " '445': 71.8,\n",
       " '450': 67.0,\n",
       " '455': 62.25,\n",
       " '460': 57.9,\n",
       " '465': 52.8,\n",
       " '470': 48.2,\n",
       " '475': 43.7,\n",
       " '480': 39.35,\n",
       " '485': 35.1,\n",
       " '490': 30.95,\n",
       " '495': 27.0,\n",
       " '500': 23.25,\n",
       " '505': 19.7,\n",
       " '510': 16.2,\n",
       " '515': 13.6,\n",
       " '520': 11.0,\n",
       " '525': 8.9,\n",
       " '530': 6.5,\n",
       " '535': 5.05,\n",
       " '540': 3.7,\n",
       " '545': 2.65,\n",
       " '550': 1875.0,\n",
       " '555': 1.3,\n",
       " '560': 0.8,\n",
       " '565': 0.6,\n",
       " '570': 0.425}"
      ]
     },
     "execution_count": 17,
     "metadata": {},
     "output_type": "execute_result"
    }
   ],
   "source": [
    "row"
   ]
  },
  {
   "cell_type": "code",
   "execution_count": null,
   "metadata": {},
   "outputs": [],
   "source": []
  }
 ],
 "metadata": {
  "kernelspec": {
   "display_name": "Python 3",
   "language": "python",
   "name": "python3"
  },
  "language_info": {
   "codemirror_mode": {
    "name": "ipython",
    "version": 3
   },
   "file_extension": ".py",
   "mimetype": "text/x-python",
   "name": "python",
   "nbconvert_exporter": "python",
   "pygments_lexer": "ipython3",
   "version": "3.8.6"
  },
  "varInspector": {
   "cols": {
    "lenName": 16,
    "lenType": 16,
    "lenVar": 40
   },
   "kernels_config": {
    "python": {
     "delete_cmd_postfix": "",
     "delete_cmd_prefix": "del ",
     "library": "var_list.py",
     "varRefreshCmd": "print(var_dic_list())"
    },
    "r": {
     "delete_cmd_postfix": ") ",
     "delete_cmd_prefix": "rm(",
     "library": "var_list.r",
     "varRefreshCmd": "cat(var_dic_list()) "
    }
   },
   "types_to_exclude": [
    "module",
    "function",
    "builtin_function_or_method",
    "instance",
    "_Feature"
   ],
   "window_display": false
  }
 },
 "nbformat": 4,
 "nbformat_minor": 4
}
